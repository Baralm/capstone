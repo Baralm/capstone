{
 "cells": [
  {
   "cell_type": "markdown",
   "metadata": {},
   "source": [
    "# Data Science Work Flow\n",
    "\n",
    "- [Define Problem](#Define-Problem)\n",
    "- [Gather Data](#Gather-Data)\n",
    "- [Explore Data](#Explore-Data)\n",
    "- [Model Data](#Model-Data)\n",
    "- [Evaluate Model](#Evaluate-Model)\n",
    "- [Answer Problem](#Answer-Problem)"
   ]
  },
  {
   "cell_type": "markdown",
   "metadata": {},
   "source": [
    "## Table of contents\n",
    "- [Introduction](#Introduction)\n",
    "- [Required Libraries](#Required-Libraries)\n",
    "- [Dataset](#Dataset)\n",
    "- [Exploring the Dataset](#Exploring-the-Dataset)\n",
    "    - [Checking and droping Null Values](#Checking-and-droping-Null-Values)\n",
    "    - [Droping columns](#Droping-columns)\n",
    "    - [Filtering-the-Dataframe](#Filtering-the-Dataframe)\n",
    "    - [Checking Datatypes](#Checking-Datatypes)\n",
    "    - [Spliting one column into two](#Spliting-one-column-into-two)\n",
    "    - [Converting Date column into DateTime object](#Converting-Date-column-into-DateTime-object)\n",
    "    - [Spliting the Single date column to year month and day](#Spliting-the-Single-date-column-to-year-month-and-day)\n",
    "       - [Converting DataTypes](#Converting-DataTypes)\n",
    "- [Data Visualization](#Data-Visualization)\n",
    "- [Baseline Accuracy Score of Target varibale](#Baseline-Accuracy-Score-of-Target-varibale)\n",
    "    - [ Binarize Target Variable](#Binarize-Target-Variable)\n",
    "- [Pre processing step before modeling](#Pre-processing-step-before-modeling)\n",
    "- [Model Data](#Model-Data)\n",
    "- [Fine Tune Model](#Fine-Tune-Model)\n",
    "- [Answer Problem](#Answer-)\n"
   ]
  },
  {
   "cell_type": "markdown",
   "metadata": {},
   "source": [
    "# Define Problem"
   ]
  },
  {
   "cell_type": "markdown",
   "metadata": {},
   "source": [
    "# Introduction"
   ]
  },
  {
   "cell_type": "markdown",
   "metadata": {},
   "source": [
    "The Kickstarter is an American public-benefit corporation that supports and hosts a global crowdfunding platform to harbour and encourage creative projects and startups specifically for creative projects in the following categories: Art, Comics, Crafts, Dance, Design, Fashion, Film & Video, Food, Games, Journalism, Music, Photography, Publishing, Technology, and Theater.\n",
    "\n",
    "The members of the audience who decide on funding the project are called backers and the amount they contribute is called the ‘pledged amount’. If project doesnot gather funds (pledged amount) that is equal to the goal than that project is failed and therefore backers will not be charged. So, the project beign pledged is completely dependent number of backers a project can get. The one who starts the project should give maximum time in making project more creative, beign very sincere to the question asked by the potential backers."
   ]
  },
  {
   "cell_type": "markdown",
   "metadata": {},
   "source": [
    "# Required Libraries"
   ]
  },
  {
   "cell_type": "markdown",
   "metadata": {},
   "source": [
    "This notebook uses several Python packages that come standard with the Anaconda Python distribution. The primary libraries that we'll be using are:\n",
    "\n",
    "- NumPy: Provides a fast numerical array structure and helper functions.\n",
    "- pandas: Provides a DataFrame structure to store data in memory and work with it easily and efficiently.\n",
    "- scikit-learn: The essential Machine Learning package in Python.\n",
    "- matplotlib: Basic plotting library in Python; most other Python plotting libraries are built on top of it.\n",
    "- Seaborn: Advanced statistical plotting library."
   ]
  },
  {
   "cell_type": "code",
   "execution_count": 2,
   "metadata": {},
   "outputs": [],
   "source": [
    "import pandas as pd\n",
    "import seaborn as sns\n",
    "import matplotlib.pyplot as plt\n",
    "import numpy as np\n",
    "import warnings\n",
    "from datetime import datetime\n",
    "from sklearn.preprocessing import OneHotEncoder, LabelEncoder\n",
    "from sklearn.tree import DecisionTreeClassifier\n",
    "from sklearn.ensemble import RandomForestClassifier\n",
    "from sklearn.model_selection import cross_val_score, train_test_split, GridSearchCV\n",
    "from sklearn.metrics import precision_score, recall_score, confusion_matrix, classification_report, accuracy_score, f1_score\n",
    "from sklearn.metrics import auc, roc_auc_score, roc_curve \n",
    "from sklearn.ensemble import AdaBoostClassifier, GradientBoostingClassifier\n",
    "from sklearn.preprocessing import StandardScaler\n",
    "\n",
    "warnings.filterwarnings('ignore')\n",
    "%matplotlib inline"
   ]
  },
  {
   "cell_type": "markdown",
   "metadata": {},
   "source": [
    "# Gather Data"
   ]
  },
  {
   "cell_type": "markdown",
   "metadata": {},
   "source": [
    "### Description of the Kickstrater Data columns\n",
    "\n",
    "---\n",
    "\n",
    "The corresponding descriptions are:\n",
    "\n",
    "    ID: Internal Kickstarter ID  \n",
    "    name: name of project \n",
    "    category: category \n",
    "    main_category: category of campaign\n",
    "    currency: currency used to support \n",
    "    deadline: deadline for crowdfunding\n",
    "    goal: fundraising goal - The funding goal is the amount of money that a creator needs to complete their           project. \n",
    "    launched: date launched\n",
    "    pledged: amount pledged by \"crowd\"\n",
    "    state: Current condition the project is in\n",
    "    backers: number of backers\n",
    "    country: country pledged from\n",
    "    usd pledged: amount of money pledged"
   ]
  },
  {
   "cell_type": "markdown",
   "metadata": {},
   "source": [
    "# Dataset"
   ]
  },
  {
   "cell_type": "code",
   "execution_count": 3,
   "metadata": {},
   "outputs": [
    {
     "data": {
      "text/html": [
       "<div>\n",
       "<style scoped>\n",
       "    .dataframe tbody tr th:only-of-type {\n",
       "        vertical-align: middle;\n",
       "    }\n",
       "\n",
       "    .dataframe tbody tr th {\n",
       "        vertical-align: top;\n",
       "    }\n",
       "\n",
       "    .dataframe thead th {\n",
       "        text-align: right;\n",
       "    }\n",
       "</style>\n",
       "<table border=\"1\" class=\"dataframe\">\n",
       "  <thead>\n",
       "    <tr style=\"text-align: right;\">\n",
       "      <th></th>\n",
       "      <th>ID</th>\n",
       "      <th>name</th>\n",
       "      <th>category</th>\n",
       "      <th>main_category</th>\n",
       "      <th>currency</th>\n",
       "      <th>deadline</th>\n",
       "      <th>goal</th>\n",
       "      <th>launched</th>\n",
       "      <th>pledged</th>\n",
       "      <th>state</th>\n",
       "      <th>backers</th>\n",
       "      <th>country</th>\n",
       "      <th>usd pledged</th>\n",
       "      <th>Unnamed: 13</th>\n",
       "      <th>Unnamed: 14</th>\n",
       "      <th>Unnamed: 15</th>\n",
       "      <th>Unnamed: 16</th>\n",
       "    </tr>\n",
       "  </thead>\n",
       "  <tbody>\n",
       "    <tr>\n",
       "      <th>0</th>\n",
       "      <td>1000002330</td>\n",
       "      <td>The Songs of Adelaide &amp; Abullah</td>\n",
       "      <td>Poetry</td>\n",
       "      <td>Publishing</td>\n",
       "      <td>GBP</td>\n",
       "      <td>2015-10-09 11:36:00</td>\n",
       "      <td>1000</td>\n",
       "      <td>2015-08-11 12:12:28</td>\n",
       "      <td>0</td>\n",
       "      <td>failed</td>\n",
       "      <td>0</td>\n",
       "      <td>GB</td>\n",
       "      <td>0</td>\n",
       "      <td>NaN</td>\n",
       "      <td>NaN</td>\n",
       "      <td>NaN</td>\n",
       "      <td>NaN</td>\n",
       "    </tr>\n",
       "    <tr>\n",
       "      <th>1</th>\n",
       "      <td>1000004038</td>\n",
       "      <td>Where is Hank?</td>\n",
       "      <td>Narrative Film</td>\n",
       "      <td>Film &amp; Video</td>\n",
       "      <td>USD</td>\n",
       "      <td>2013-02-26 00:20:50</td>\n",
       "      <td>45000</td>\n",
       "      <td>2013-01-12 00:20:50</td>\n",
       "      <td>220</td>\n",
       "      <td>failed</td>\n",
       "      <td>3</td>\n",
       "      <td>US</td>\n",
       "      <td>220</td>\n",
       "      <td>NaN</td>\n",
       "      <td>NaN</td>\n",
       "      <td>NaN</td>\n",
       "      <td>NaN</td>\n",
       "    </tr>\n",
       "    <tr>\n",
       "      <th>2</th>\n",
       "      <td>1000007540</td>\n",
       "      <td>ToshiCapital Rekordz Needs Help to Complete Album</td>\n",
       "      <td>Music</td>\n",
       "      <td>Music</td>\n",
       "      <td>USD</td>\n",
       "      <td>2012-04-16 04:24:11</td>\n",
       "      <td>5000</td>\n",
       "      <td>2012-03-17 03:24:11</td>\n",
       "      <td>1</td>\n",
       "      <td>failed</td>\n",
       "      <td>1</td>\n",
       "      <td>US</td>\n",
       "      <td>1</td>\n",
       "      <td>NaN</td>\n",
       "      <td>NaN</td>\n",
       "      <td>NaN</td>\n",
       "      <td>NaN</td>\n",
       "    </tr>\n",
       "    <tr>\n",
       "      <th>3</th>\n",
       "      <td>1000011046</td>\n",
       "      <td>Community Film Project: The Art of Neighborhoo...</td>\n",
       "      <td>Film &amp; Video</td>\n",
       "      <td>Film &amp; Video</td>\n",
       "      <td>USD</td>\n",
       "      <td>2015-08-29 01:00:00</td>\n",
       "      <td>19500</td>\n",
       "      <td>2015-07-04 08:35:03</td>\n",
       "      <td>1283</td>\n",
       "      <td>canceled</td>\n",
       "      <td>14</td>\n",
       "      <td>US</td>\n",
       "      <td>1283</td>\n",
       "      <td>NaN</td>\n",
       "      <td>NaN</td>\n",
       "      <td>NaN</td>\n",
       "      <td>NaN</td>\n",
       "    </tr>\n",
       "    <tr>\n",
       "      <th>4</th>\n",
       "      <td>1000014025</td>\n",
       "      <td>Monarch Espresso Bar</td>\n",
       "      <td>Restaurants</td>\n",
       "      <td>Food</td>\n",
       "      <td>USD</td>\n",
       "      <td>2016-04-01 13:38:27</td>\n",
       "      <td>50000</td>\n",
       "      <td>2016-02-26 13:38:27</td>\n",
       "      <td>52375</td>\n",
       "      <td>successful</td>\n",
       "      <td>224</td>\n",
       "      <td>US</td>\n",
       "      <td>52375</td>\n",
       "      <td>NaN</td>\n",
       "      <td>NaN</td>\n",
       "      <td>NaN</td>\n",
       "      <td>NaN</td>\n",
       "    </tr>\n",
       "  </tbody>\n",
       "</table>\n",
       "</div>"
      ],
      "text/plain": [
       "          ID                                               name   \\\n",
       "0  1000002330                    The Songs of Adelaide & Abullah   \n",
       "1  1000004038                                     Where is Hank?   \n",
       "2  1000007540  ToshiCapital Rekordz Needs Help to Complete Album   \n",
       "3  1000011046  Community Film Project: The Art of Neighborhoo...   \n",
       "4  1000014025                               Monarch Espresso Bar   \n",
       "\n",
       "        category  main_category  currency             deadline   goal   \\\n",
       "0          Poetry     Publishing       GBP  2015-10-09 11:36:00   1000   \n",
       "1  Narrative Film   Film & Video       USD  2013-02-26 00:20:50  45000   \n",
       "2           Music          Music       USD  2012-04-16 04:24:11   5000   \n",
       "3    Film & Video   Film & Video       USD  2015-08-29 01:00:00  19500   \n",
       "4     Restaurants           Food       USD  2016-04-01 13:38:27  50000   \n",
       "\n",
       "             launched  pledged       state  backers  country  usd pledged   \\\n",
       "0  2015-08-11 12:12:28        0      failed        0       GB            0   \n",
       "1  2013-01-12 00:20:50      220      failed        3       US          220   \n",
       "2  2012-03-17 03:24:11        1      failed        1       US            1   \n",
       "3  2015-07-04 08:35:03     1283    canceled       14       US         1283   \n",
       "4  2016-02-26 13:38:27    52375  successful      224       US        52375   \n",
       "\n",
       "  Unnamed: 13 Unnamed: 14 Unnamed: 15  Unnamed: 16  \n",
       "0         NaN         NaN         NaN          NaN  \n",
       "1         NaN         NaN         NaN          NaN  \n",
       "2         NaN         NaN         NaN          NaN  \n",
       "3         NaN         NaN         NaN          NaN  \n",
       "4         NaN         NaN         NaN          NaN  "
      ]
     },
     "execution_count": 3,
     "metadata": {},
     "output_type": "execute_result"
    }
   ],
   "source": [
    "#read the csv\n",
    "df= pd.read_csv('./ks-projects-train.csv', encoding = \"ISO-8859-1\", engine='python')\n",
    "#check first five rows \n",
    "df.head()"
   ]
  },
  {
   "cell_type": "markdown",
   "metadata": {},
   "source": [
    "# Explore Data"
   ]
  },
  {
   "cell_type": "markdown",
   "metadata": {},
   "source": [
    "## Exploring the Dataset"
   ]
  },
  {
   "cell_type": "code",
   "execution_count": 4,
   "metadata": {},
   "outputs": [
    {
     "data": {
      "text/plain": [
       "(323750, 17)"
      ]
     },
     "execution_count": 4,
     "metadata": {},
     "output_type": "execute_result"
    }
   ],
   "source": [
    "#shape of DataFrame\n",
    "df.shape"
   ]
  },
  {
   "cell_type": "code",
   "execution_count": 5,
   "metadata": {},
   "outputs": [
    {
     "name": "stdout",
     "output_type": "stream",
     "text": [
      "<class 'pandas.core.frame.DataFrame'>\n",
      "RangeIndex: 323750 entries, 0 to 323749\n",
      "Data columns (total 17 columns):\n",
      "ID                323750 non-null int64\n",
      "name              323746 non-null object\n",
      "category          323745 non-null object\n",
      "main_category     323750 non-null object\n",
      "currency          323750 non-null object\n",
      "deadline          323750 non-null object\n",
      "goal              323750 non-null object\n",
      "launched          323750 non-null object\n",
      "pledged           323750 non-null object\n",
      "state             323750 non-null object\n",
      "backers           323750 non-null object\n",
      "country           323750 non-null object\n",
      "usd pledged       319960 non-null object\n",
      "Unnamed: 13       625 non-null object\n",
      "Unnamed: 14       12 non-null object\n",
      "Unnamed: 15       4 non-null object\n",
      "Unnamed: 16       1 non-null float64\n",
      "dtypes: float64(1), int64(1), object(15)\n",
      "memory usage: 42.0+ MB\n"
     ]
    }
   ],
   "source": [
    "#checking the info of dataset\n",
    "df.info()"
   ]
  },
  {
   "cell_type": "code",
   "execution_count": 6,
   "metadata": {},
   "outputs": [
    {
     "data": {
      "text/plain": [
       "Index(['ID', 'name', 'category', 'main_category', 'currency', 'deadline',\n",
       "       'goal', 'launched', 'pledged', 'state', 'backers', 'country',\n",
       "       'usd pledged', 'Unnamed: 13', 'Unnamed: 14', 'Unnamed: 15',\n",
       "       'Unnamed: 16'],\n",
       "      dtype='object')"
      ]
     },
     "execution_count": 6,
     "metadata": {},
     "output_type": "execute_result"
    }
   ],
   "source": [
    "#striping the unwanted spaces \n",
    "df.columns = [col.strip() for col in df.columns]\n",
    "# list if columns \n",
    "df.columns"
   ]
  },
  {
   "cell_type": "markdown",
   "metadata": {},
   "source": [
    "### Checking and droping  Null Values"
   ]
  },
  {
   "cell_type": "code",
   "execution_count": 7,
   "metadata": {},
   "outputs": [
    {
     "data": {
      "text/plain": [
       "ID                    0\n",
       "name                  4\n",
       "category              5\n",
       "main_category         0\n",
       "currency              0\n",
       "deadline              0\n",
       "goal                  0\n",
       "launched              0\n",
       "pledged               0\n",
       "state                 0\n",
       "backers               0\n",
       "country               0\n",
       "usd pledged        3790\n",
       "Unnamed: 13      323125\n",
       "Unnamed: 14      323738\n",
       "Unnamed: 15      323746\n",
       "Unnamed: 16      323749\n",
       "dtype: int64"
      ]
     },
     "execution_count": 7,
     "metadata": {},
     "output_type": "execute_result"
    }
   ],
   "source": [
    "#checking nulls \n",
    "df.isnull().sum()"
   ]
  },
  {
   "cell_type": "code",
   "execution_count": 9,
   "metadata": {},
   "outputs": [],
   "source": [
    "#dropping nulls\n",
    "df.dropna(inplace=True)"
   ]
  },
  {
   "cell_type": "markdown",
   "metadata": {},
   "source": [
    "### Droping columns"
   ]
  },
  {
   "cell_type": "code",
   "execution_count": 8,
   "metadata": {},
   "outputs": [],
   "source": [
    "#drop unwanted columns\n",
    "df.drop(['ID','Unnamed: 16','Unnamed: 13', 'Unnamed: 14', 'Unnamed: 15' ], axis=1, inplace= True)"
   ]
  },
  {
   "cell_type": "markdown",
   "metadata": {},
   "source": [
    "### Filtering the Dataframe "
   ]
  },
  {
   "cell_type": "code",
   "execution_count": 10,
   "metadata": {},
   "outputs": [
    {
     "data": {
      "text/html": [
       "<div>\n",
       "<style scoped>\n",
       "    .dataframe tbody tr th:only-of-type {\n",
       "        vertical-align: middle;\n",
       "    }\n",
       "\n",
       "    .dataframe tbody tr th {\n",
       "        vertical-align: top;\n",
       "    }\n",
       "\n",
       "    .dataframe thead th {\n",
       "        text-align: right;\n",
       "    }\n",
       "</style>\n",
       "<table border=\"1\" class=\"dataframe\">\n",
       "  <thead>\n",
       "    <tr style=\"text-align: right;\">\n",
       "      <th></th>\n",
       "      <th>name</th>\n",
       "      <th>category</th>\n",
       "      <th>main_category</th>\n",
       "      <th>currency</th>\n",
       "      <th>deadline</th>\n",
       "      <th>goal</th>\n",
       "      <th>launched</th>\n",
       "      <th>pledged</th>\n",
       "      <th>state</th>\n",
       "      <th>backers</th>\n",
       "      <th>country</th>\n",
       "      <th>usd pledged</th>\n",
       "    </tr>\n",
       "  </thead>\n",
       "  <tbody>\n",
       "    <tr>\n",
       "      <th>0</th>\n",
       "      <td>The Songs of Adelaide &amp; Abullah</td>\n",
       "      <td>Poetry</td>\n",
       "      <td>Publishing</td>\n",
       "      <td>GBP</td>\n",
       "      <td>2015-10-09 11:36:00</td>\n",
       "      <td>1000</td>\n",
       "      <td>2015-08-11 12:12:28</td>\n",
       "      <td>0</td>\n",
       "      <td>failed</td>\n",
       "      <td>0</td>\n",
       "      <td>GB</td>\n",
       "      <td>0</td>\n",
       "    </tr>\n",
       "    <tr>\n",
       "      <th>1</th>\n",
       "      <td>Where is Hank?</td>\n",
       "      <td>Narrative Film</td>\n",
       "      <td>Film &amp; Video</td>\n",
       "      <td>USD</td>\n",
       "      <td>2013-02-26 00:20:50</td>\n",
       "      <td>45000</td>\n",
       "      <td>2013-01-12 00:20:50</td>\n",
       "      <td>220</td>\n",
       "      <td>failed</td>\n",
       "      <td>3</td>\n",
       "      <td>US</td>\n",
       "      <td>220</td>\n",
       "    </tr>\n",
       "    <tr>\n",
       "      <th>2</th>\n",
       "      <td>ToshiCapital Rekordz Needs Help to Complete Album</td>\n",
       "      <td>Music</td>\n",
       "      <td>Music</td>\n",
       "      <td>USD</td>\n",
       "      <td>2012-04-16 04:24:11</td>\n",
       "      <td>5000</td>\n",
       "      <td>2012-03-17 03:24:11</td>\n",
       "      <td>1</td>\n",
       "      <td>failed</td>\n",
       "      <td>1</td>\n",
       "      <td>US</td>\n",
       "      <td>1</td>\n",
       "    </tr>\n",
       "    <tr>\n",
       "      <th>4</th>\n",
       "      <td>Monarch Espresso Bar</td>\n",
       "      <td>Restaurants</td>\n",
       "      <td>Food</td>\n",
       "      <td>USD</td>\n",
       "      <td>2016-04-01 13:38:27</td>\n",
       "      <td>50000</td>\n",
       "      <td>2016-02-26 13:38:27</td>\n",
       "      <td>52375</td>\n",
       "      <td>successful</td>\n",
       "      <td>224</td>\n",
       "      <td>US</td>\n",
       "      <td>52375</td>\n",
       "    </tr>\n",
       "    <tr>\n",
       "      <th>5</th>\n",
       "      <td>Support Solar Roasted Coffee &amp; Green Energy!  ...</td>\n",
       "      <td>Food</td>\n",
       "      <td>Food</td>\n",
       "      <td>USD</td>\n",
       "      <td>2014-12-21 18:30:44</td>\n",
       "      <td>1000</td>\n",
       "      <td>2014-12-01 18:30:44</td>\n",
       "      <td>1205</td>\n",
       "      <td>successful</td>\n",
       "      <td>16</td>\n",
       "      <td>US</td>\n",
       "      <td>1205</td>\n",
       "    </tr>\n",
       "  </tbody>\n",
       "</table>\n",
       "</div>"
      ],
      "text/plain": [
       "                                                name        category  \\\n",
       "0                    The Songs of Adelaide & Abullah          Poetry   \n",
       "1                                     Where is Hank?  Narrative Film   \n",
       "2  ToshiCapital Rekordz Needs Help to Complete Album           Music   \n",
       "4                               Monarch Espresso Bar     Restaurants   \n",
       "5  Support Solar Roasted Coffee & Green Energy!  ...            Food   \n",
       "\n",
       "  main_category currency             deadline   goal             launched  \\\n",
       "0    Publishing      GBP  2015-10-09 11:36:00   1000  2015-08-11 12:12:28   \n",
       "1  Film & Video      USD  2013-02-26 00:20:50  45000  2013-01-12 00:20:50   \n",
       "2         Music      USD  2012-04-16 04:24:11   5000  2012-03-17 03:24:11   \n",
       "4          Food      USD  2016-04-01 13:38:27  50000  2016-02-26 13:38:27   \n",
       "5          Food      USD  2014-12-21 18:30:44   1000  2014-12-01 18:30:44   \n",
       "\n",
       "  pledged       state backers country usd pledged  \n",
       "0       0      failed       0      GB           0  \n",
       "1     220      failed       3      US         220  \n",
       "2       1      failed       1      US           1  \n",
       "4   52375  successful     224      US       52375  \n",
       "5    1205  successful      16      US        1205  "
      ]
     },
     "execution_count": 10,
     "metadata": {},
     "output_type": "execute_result"
    }
   ],
   "source": [
    "#filtering the dataframe \n",
    "df= df[(df['state']=='failed')| (df['state']=='successful')]\n",
    "df.head()"
   ]
  },
  {
   "cell_type": "markdown",
   "metadata": {},
   "source": [
    "### Checking Datatypes"
   ]
  },
  {
   "cell_type": "code",
   "execution_count": 11,
   "metadata": {},
   "outputs": [
    {
     "data": {
      "text/plain": [
       "name             object\n",
       "category         object\n",
       "main_category    object\n",
       "currency         object\n",
       "deadline         object\n",
       "goal             object\n",
       "launched         object\n",
       "pledged          object\n",
       "state            object\n",
       "backers          object\n",
       "country          object\n",
       "usd pledged      object\n",
       "dtype: object"
      ]
     },
     "execution_count": 11,
     "metadata": {},
     "output_type": "execute_result"
    }
   ],
   "source": [
    "#checking data types of columns\n",
    "df.dtypes"
   ]
  },
  {
   "cell_type": "markdown",
   "metadata": {},
   "source": [
    "### Spliting one column into two"
   ]
  },
  {
   "cell_type": "code",
   "execution_count": 12,
   "metadata": {},
   "outputs": [
    {
     "data": {
      "text/html": [
       "<div>\n",
       "<style scoped>\n",
       "    .dataframe tbody tr th:only-of-type {\n",
       "        vertical-align: middle;\n",
       "    }\n",
       "\n",
       "    .dataframe tbody tr th {\n",
       "        vertical-align: top;\n",
       "    }\n",
       "\n",
       "    .dataframe thead th {\n",
       "        text-align: right;\n",
       "    }\n",
       "</style>\n",
       "<table border=\"1\" class=\"dataframe\">\n",
       "  <thead>\n",
       "    <tr style=\"text-align: right;\">\n",
       "      <th></th>\n",
       "      <th>name</th>\n",
       "      <th>category</th>\n",
       "      <th>main_category</th>\n",
       "      <th>currency</th>\n",
       "      <th>deadline</th>\n",
       "      <th>goal</th>\n",
       "      <th>launched</th>\n",
       "      <th>pledged</th>\n",
       "      <th>state</th>\n",
       "      <th>backers</th>\n",
       "      <th>country</th>\n",
       "      <th>usd pledged</th>\n",
       "      <th>Date_launched</th>\n",
       "      <th>Time_lanunched</th>\n",
       "    </tr>\n",
       "  </thead>\n",
       "  <tbody>\n",
       "    <tr>\n",
       "      <th>0</th>\n",
       "      <td>The Songs of Adelaide &amp; Abullah</td>\n",
       "      <td>Poetry</td>\n",
       "      <td>Publishing</td>\n",
       "      <td>GBP</td>\n",
       "      <td>2015-10-09 11:36:00</td>\n",
       "      <td>1000</td>\n",
       "      <td>2015-08-11 12:12:28</td>\n",
       "      <td>0</td>\n",
       "      <td>failed</td>\n",
       "      <td>0</td>\n",
       "      <td>GB</td>\n",
       "      <td>0</td>\n",
       "      <td>2015-08-11</td>\n",
       "      <td>12:12:28</td>\n",
       "    </tr>\n",
       "    <tr>\n",
       "      <th>1</th>\n",
       "      <td>Where is Hank?</td>\n",
       "      <td>Narrative Film</td>\n",
       "      <td>Film &amp; Video</td>\n",
       "      <td>USD</td>\n",
       "      <td>2013-02-26 00:20:50</td>\n",
       "      <td>45000</td>\n",
       "      <td>2013-01-12 00:20:50</td>\n",
       "      <td>220</td>\n",
       "      <td>failed</td>\n",
       "      <td>3</td>\n",
       "      <td>US</td>\n",
       "      <td>220</td>\n",
       "      <td>2013-01-12</td>\n",
       "      <td>00:20:50</td>\n",
       "    </tr>\n",
       "    <tr>\n",
       "      <th>2</th>\n",
       "      <td>ToshiCapital Rekordz Needs Help to Complete Album</td>\n",
       "      <td>Music</td>\n",
       "      <td>Music</td>\n",
       "      <td>USD</td>\n",
       "      <td>2012-04-16 04:24:11</td>\n",
       "      <td>5000</td>\n",
       "      <td>2012-03-17 03:24:11</td>\n",
       "      <td>1</td>\n",
       "      <td>failed</td>\n",
       "      <td>1</td>\n",
       "      <td>US</td>\n",
       "      <td>1</td>\n",
       "      <td>2012-03-17</td>\n",
       "      <td>03:24:11</td>\n",
       "    </tr>\n",
       "    <tr>\n",
       "      <th>4</th>\n",
       "      <td>Monarch Espresso Bar</td>\n",
       "      <td>Restaurants</td>\n",
       "      <td>Food</td>\n",
       "      <td>USD</td>\n",
       "      <td>2016-04-01 13:38:27</td>\n",
       "      <td>50000</td>\n",
       "      <td>2016-02-26 13:38:27</td>\n",
       "      <td>52375</td>\n",
       "      <td>successful</td>\n",
       "      <td>224</td>\n",
       "      <td>US</td>\n",
       "      <td>52375</td>\n",
       "      <td>2016-02-26</td>\n",
       "      <td>13:38:27</td>\n",
       "    </tr>\n",
       "    <tr>\n",
       "      <th>5</th>\n",
       "      <td>Support Solar Roasted Coffee &amp; Green Energy!  ...</td>\n",
       "      <td>Food</td>\n",
       "      <td>Food</td>\n",
       "      <td>USD</td>\n",
       "      <td>2014-12-21 18:30:44</td>\n",
       "      <td>1000</td>\n",
       "      <td>2014-12-01 18:30:44</td>\n",
       "      <td>1205</td>\n",
       "      <td>successful</td>\n",
       "      <td>16</td>\n",
       "      <td>US</td>\n",
       "      <td>1205</td>\n",
       "      <td>2014-12-01</td>\n",
       "      <td>18:30:44</td>\n",
       "    </tr>\n",
       "  </tbody>\n",
       "</table>\n",
       "</div>"
      ],
      "text/plain": [
       "                                                name        category  \\\n",
       "0                    The Songs of Adelaide & Abullah          Poetry   \n",
       "1                                     Where is Hank?  Narrative Film   \n",
       "2  ToshiCapital Rekordz Needs Help to Complete Album           Music   \n",
       "4                               Monarch Espresso Bar     Restaurants   \n",
       "5  Support Solar Roasted Coffee & Green Energy!  ...            Food   \n",
       "\n",
       "  main_category currency             deadline   goal             launched  \\\n",
       "0    Publishing      GBP  2015-10-09 11:36:00   1000  2015-08-11 12:12:28   \n",
       "1  Film & Video      USD  2013-02-26 00:20:50  45000  2013-01-12 00:20:50   \n",
       "2         Music      USD  2012-04-16 04:24:11   5000  2012-03-17 03:24:11   \n",
       "4          Food      USD  2016-04-01 13:38:27  50000  2016-02-26 13:38:27   \n",
       "5          Food      USD  2014-12-21 18:30:44   1000  2014-12-01 18:30:44   \n",
       "\n",
       "  pledged       state backers country usd pledged Date_launched Time_lanunched  \n",
       "0       0      failed       0      GB           0    2015-08-11       12:12:28  \n",
       "1     220      failed       3      US         220    2013-01-12       00:20:50  \n",
       "2       1      failed       1      US           1    2012-03-17       03:24:11  \n",
       "4   52375  successful     224      US       52375    2016-02-26       13:38:27  \n",
       "5    1205  successful      16      US        1205    2014-12-01       18:30:44  "
      ]
     },
     "execution_count": 12,
     "metadata": {},
     "output_type": "execute_result"
    }
   ],
   "source": [
    "#splitting the date and time from column ['launched'] and making seperate column\n",
    "df[['Date_launched','Time_lanunched']] = df.launched.str.split(expand=True)\n",
    "\n",
    "df.head()"
   ]
  },
  {
   "cell_type": "code",
   "execution_count": 13,
   "metadata": {},
   "outputs": [],
   "source": [
    "#drop column launched\n",
    "df.drop(['launched'], axis=1, inplace=True)"
   ]
  },
  {
   "cell_type": "code",
   "execution_count": 14,
   "metadata": {},
   "outputs": [
    {
     "data": {
      "text/html": [
       "<div>\n",
       "<style scoped>\n",
       "    .dataframe tbody tr th:only-of-type {\n",
       "        vertical-align: middle;\n",
       "    }\n",
       "\n",
       "    .dataframe tbody tr th {\n",
       "        vertical-align: top;\n",
       "    }\n",
       "\n",
       "    .dataframe thead th {\n",
       "        text-align: right;\n",
       "    }\n",
       "</style>\n",
       "<table border=\"1\" class=\"dataframe\">\n",
       "  <thead>\n",
       "    <tr style=\"text-align: right;\">\n",
       "      <th></th>\n",
       "      <th>name</th>\n",
       "      <th>category</th>\n",
       "      <th>main_category</th>\n",
       "      <th>currency</th>\n",
       "      <th>deadline</th>\n",
       "      <th>goal</th>\n",
       "      <th>pledged</th>\n",
       "      <th>state</th>\n",
       "      <th>backers</th>\n",
       "      <th>country</th>\n",
       "      <th>usd pledged</th>\n",
       "      <th>Date_launched</th>\n",
       "      <th>Time_lanunched</th>\n",
       "      <th>Deadline_date</th>\n",
       "      <th>Deadline_time</th>\n",
       "    </tr>\n",
       "  </thead>\n",
       "  <tbody>\n",
       "    <tr>\n",
       "      <th>0</th>\n",
       "      <td>The Songs of Adelaide &amp; Abullah</td>\n",
       "      <td>Poetry</td>\n",
       "      <td>Publishing</td>\n",
       "      <td>GBP</td>\n",
       "      <td>2015-10-09 11:36:00</td>\n",
       "      <td>1000</td>\n",
       "      <td>0</td>\n",
       "      <td>failed</td>\n",
       "      <td>0</td>\n",
       "      <td>GB</td>\n",
       "      <td>0</td>\n",
       "      <td>2015-08-11</td>\n",
       "      <td>12:12:28</td>\n",
       "      <td>2015-10-09</td>\n",
       "      <td>11:36:00</td>\n",
       "    </tr>\n",
       "    <tr>\n",
       "      <th>1</th>\n",
       "      <td>Where is Hank?</td>\n",
       "      <td>Narrative Film</td>\n",
       "      <td>Film &amp; Video</td>\n",
       "      <td>USD</td>\n",
       "      <td>2013-02-26 00:20:50</td>\n",
       "      <td>45000</td>\n",
       "      <td>220</td>\n",
       "      <td>failed</td>\n",
       "      <td>3</td>\n",
       "      <td>US</td>\n",
       "      <td>220</td>\n",
       "      <td>2013-01-12</td>\n",
       "      <td>00:20:50</td>\n",
       "      <td>2013-02-26</td>\n",
       "      <td>00:20:50</td>\n",
       "    </tr>\n",
       "    <tr>\n",
       "      <th>2</th>\n",
       "      <td>ToshiCapital Rekordz Needs Help to Complete Album</td>\n",
       "      <td>Music</td>\n",
       "      <td>Music</td>\n",
       "      <td>USD</td>\n",
       "      <td>2012-04-16 04:24:11</td>\n",
       "      <td>5000</td>\n",
       "      <td>1</td>\n",
       "      <td>failed</td>\n",
       "      <td>1</td>\n",
       "      <td>US</td>\n",
       "      <td>1</td>\n",
       "      <td>2012-03-17</td>\n",
       "      <td>03:24:11</td>\n",
       "      <td>2012-04-16</td>\n",
       "      <td>04:24:11</td>\n",
       "    </tr>\n",
       "    <tr>\n",
       "      <th>4</th>\n",
       "      <td>Monarch Espresso Bar</td>\n",
       "      <td>Restaurants</td>\n",
       "      <td>Food</td>\n",
       "      <td>USD</td>\n",
       "      <td>2016-04-01 13:38:27</td>\n",
       "      <td>50000</td>\n",
       "      <td>52375</td>\n",
       "      <td>successful</td>\n",
       "      <td>224</td>\n",
       "      <td>US</td>\n",
       "      <td>52375</td>\n",
       "      <td>2016-02-26</td>\n",
       "      <td>13:38:27</td>\n",
       "      <td>2016-04-01</td>\n",
       "      <td>13:38:27</td>\n",
       "    </tr>\n",
       "    <tr>\n",
       "      <th>5</th>\n",
       "      <td>Support Solar Roasted Coffee &amp; Green Energy!  ...</td>\n",
       "      <td>Food</td>\n",
       "      <td>Food</td>\n",
       "      <td>USD</td>\n",
       "      <td>2014-12-21 18:30:44</td>\n",
       "      <td>1000</td>\n",
       "      <td>1205</td>\n",
       "      <td>successful</td>\n",
       "      <td>16</td>\n",
       "      <td>US</td>\n",
       "      <td>1205</td>\n",
       "      <td>2014-12-01</td>\n",
       "      <td>18:30:44</td>\n",
       "      <td>2014-12-21</td>\n",
       "      <td>18:30:44</td>\n",
       "    </tr>\n",
       "  </tbody>\n",
       "</table>\n",
       "</div>"
      ],
      "text/plain": [
       "                                                name        category  \\\n",
       "0                    The Songs of Adelaide & Abullah          Poetry   \n",
       "1                                     Where is Hank?  Narrative Film   \n",
       "2  ToshiCapital Rekordz Needs Help to Complete Album           Music   \n",
       "4                               Monarch Espresso Bar     Restaurants   \n",
       "5  Support Solar Roasted Coffee & Green Energy!  ...            Food   \n",
       "\n",
       "  main_category currency             deadline   goal pledged       state  \\\n",
       "0    Publishing      GBP  2015-10-09 11:36:00   1000       0      failed   \n",
       "1  Film & Video      USD  2013-02-26 00:20:50  45000     220      failed   \n",
       "2         Music      USD  2012-04-16 04:24:11   5000       1      failed   \n",
       "4          Food      USD  2016-04-01 13:38:27  50000   52375  successful   \n",
       "5          Food      USD  2014-12-21 18:30:44   1000    1205  successful   \n",
       "\n",
       "  backers country usd pledged Date_launched Time_lanunched Deadline_date  \\\n",
       "0       0      GB           0    2015-08-11       12:12:28    2015-10-09   \n",
       "1       3      US         220    2013-01-12       00:20:50    2013-02-26   \n",
       "2       1      US           1    2012-03-17       03:24:11    2012-04-16   \n",
       "4     224      US       52375    2016-02-26       13:38:27    2016-04-01   \n",
       "5      16      US        1205    2014-12-01       18:30:44    2014-12-21   \n",
       "\n",
       "  Deadline_time  \n",
       "0      11:36:00  \n",
       "1      00:20:50  \n",
       "2      04:24:11  \n",
       "4      13:38:27  \n",
       "5      18:30:44  "
      ]
     },
     "execution_count": 14,
     "metadata": {},
     "output_type": "execute_result"
    }
   ],
   "source": [
    "##splitting the date and time from column ['deadline'] and making seperate column\n",
    "df[['Deadline_date','Deadline_time']] = df.deadline.str.split(expand=True)\n",
    "df.head()"
   ]
  },
  {
   "cell_type": "code",
   "execution_count": 15,
   "metadata": {},
   "outputs": [],
   "source": [
    "# drop column ['deadline']\n",
    "df.drop(['deadline','usd pledged'], axis = 1, inplace= True)"
   ]
  },
  {
   "cell_type": "markdown",
   "metadata": {},
   "source": [
    "### Converting Date column into DateTime object"
   ]
  },
  {
   "cell_type": "code",
   "execution_count": 16,
   "metadata": {},
   "outputs": [],
   "source": [
    "#converting to datatime object\n",
    "df['Deadline_date'] = pd.to_datetime(df['Deadline_date'])\n",
    "#converting to datetime object\n",
    "df['Date_launched']= pd.to_datetime(df['Date_launched'])\n",
    "#calculating the number of days project was live\n",
    "df['project_duration']= df['Deadline_date']- df['Date_launched']"
   ]
  },
  {
   "cell_type": "code",
   "execution_count": 17,
   "metadata": {},
   "outputs": [
    {
     "data": {
      "text/html": [
       "<div>\n",
       "<style scoped>\n",
       "    .dataframe tbody tr th:only-of-type {\n",
       "        vertical-align: middle;\n",
       "    }\n",
       "\n",
       "    .dataframe tbody tr th {\n",
       "        vertical-align: top;\n",
       "    }\n",
       "\n",
       "    .dataframe thead th {\n",
       "        text-align: right;\n",
       "    }\n",
       "</style>\n",
       "<table border=\"1\" class=\"dataframe\">\n",
       "  <thead>\n",
       "    <tr style=\"text-align: right;\">\n",
       "      <th></th>\n",
       "      <th>name</th>\n",
       "      <th>category</th>\n",
       "      <th>main_category</th>\n",
       "      <th>currency</th>\n",
       "      <th>goal</th>\n",
       "      <th>pledged</th>\n",
       "      <th>state</th>\n",
       "      <th>backers</th>\n",
       "      <th>country</th>\n",
       "      <th>Date_launched</th>\n",
       "      <th>Time_lanunched</th>\n",
       "      <th>Deadline_date</th>\n",
       "      <th>Deadline_time</th>\n",
       "      <th>project_duration</th>\n",
       "    </tr>\n",
       "  </thead>\n",
       "  <tbody>\n",
       "    <tr>\n",
       "      <th>0</th>\n",
       "      <td>The Songs of Adelaide &amp; Abullah</td>\n",
       "      <td>Poetry</td>\n",
       "      <td>Publishing</td>\n",
       "      <td>GBP</td>\n",
       "      <td>1000</td>\n",
       "      <td>0</td>\n",
       "      <td>failed</td>\n",
       "      <td>0</td>\n",
       "      <td>GB</td>\n",
       "      <td>2015-08-11</td>\n",
       "      <td>12:12:28</td>\n",
       "      <td>2015-10-09</td>\n",
       "      <td>11:36:00</td>\n",
       "      <td>59 days</td>\n",
       "    </tr>\n",
       "    <tr>\n",
       "      <th>1</th>\n",
       "      <td>Where is Hank?</td>\n",
       "      <td>Narrative Film</td>\n",
       "      <td>Film &amp; Video</td>\n",
       "      <td>USD</td>\n",
       "      <td>45000</td>\n",
       "      <td>220</td>\n",
       "      <td>failed</td>\n",
       "      <td>3</td>\n",
       "      <td>US</td>\n",
       "      <td>2013-01-12</td>\n",
       "      <td>00:20:50</td>\n",
       "      <td>2013-02-26</td>\n",
       "      <td>00:20:50</td>\n",
       "      <td>45 days</td>\n",
       "    </tr>\n",
       "  </tbody>\n",
       "</table>\n",
       "</div>"
      ],
      "text/plain": [
       "                              name        category main_category currency  \\\n",
       "0  The Songs of Adelaide & Abullah          Poetry    Publishing      GBP   \n",
       "1                   Where is Hank?  Narrative Film  Film & Video      USD   \n",
       "\n",
       "    goal pledged   state backers country Date_launched Time_lanunched  \\\n",
       "0   1000       0  failed       0      GB    2015-08-11       12:12:28   \n",
       "1  45000     220  failed       3      US    2013-01-12       00:20:50   \n",
       "\n",
       "  Deadline_date Deadline_time project_duration  \n",
       "0    2015-10-09      11:36:00          59 days  \n",
       "1    2013-02-26      00:20:50          45 days  "
      ]
     },
     "execution_count": 17,
     "metadata": {},
     "output_type": "execute_result"
    }
   ],
   "source": [
    "#checking first 2 rows of updated dataframe\n",
    "df.head(2)"
   ]
  },
  {
   "cell_type": "markdown",
   "metadata": {},
   "source": [
    "## Spliting the Single date column to year month and day"
   ]
  },
  {
   "cell_type": "code",
   "execution_count": 18,
   "metadata": {},
   "outputs": [],
   "source": [
    "# from ['Date_launched'] column extracting year, month and day and making new column to make extra feature \n",
    "df[['year_l','month_l','day_l']] = df.Date_launched.apply(lambda x: pd.Series(x.strftime(\"%Y,%m,%d\").split(\",\")))"
   ]
  },
  {
   "cell_type": "code",
   "execution_count": 19,
   "metadata": {},
   "outputs": [],
   "source": [
    "# from ['Deadline_date'] column extracting year, month and day and making new column to make extra feature \n",
    "df[['year_D','month_D','day_D']] = df.Deadline_date.apply(lambda x: pd.Series(x.strftime(\"%Y,%m,%d\").split(\",\")))"
   ]
  },
  {
   "cell_type": "code",
   "execution_count": 20,
   "metadata": {},
   "outputs": [
    {
     "data": {
      "text/plain": [
       "name                         object\n",
       "category                     object\n",
       "main_category                object\n",
       "currency                     object\n",
       "goal                         object\n",
       "pledged                      object\n",
       "state                        object\n",
       "backers                      object\n",
       "country                      object\n",
       "Date_launched        datetime64[ns]\n",
       "Time_lanunched               object\n",
       "Deadline_date        datetime64[ns]\n",
       "Deadline_time                object\n",
       "project_duration    timedelta64[ns]\n",
       "year_l                       object\n",
       "month_l                      object\n",
       "day_l                        object\n",
       "year_D                       object\n",
       "month_D                      object\n",
       "day_D                        object\n",
       "dtype: object"
      ]
     },
     "execution_count": 20,
     "metadata": {},
     "output_type": "execute_result"
    }
   ],
   "source": [
    "df.dtypes"
   ]
  },
  {
   "cell_type": "markdown",
   "metadata": {},
   "source": [
    "### Converting DataTypes"
   ]
  },
  {
   "cell_type": "code",
   "execution_count": 21,
   "metadata": {},
   "outputs": [],
   "source": [
    "df['backers']= df['backers'].astype(int)\n",
    "\n",
    "df['goal']= df['goal'].astype(float)\n",
    "\n",
    "df['pledged']= df['pledged'].astype(float)\n",
    "\n",
    "df['year_l']=df['year_l'].astype(int)\n",
    "\n",
    "df['month_l']=df['month_l'].astype(int)\n",
    "\n",
    "df['day_l']=df['day_l'].astype(int)\n",
    "\n",
    "df['year_D']=df['year_D'].astype(int)\n",
    "\n",
    "df['month_D']=df['month_D'].astype(int)\n",
    "\n",
    "df['day_D']=df['day_D'].astype(int)"
   ]
  },
  {
   "cell_type": "markdown",
   "metadata": {},
   "source": [
    " If we see the datatypes of columns [Date_launched] and [Deadline_date], [project_duration] its date time object we need to convert them to string object"
   ]
  },
  {
   "cell_type": "code",
   "execution_count": 22,
   "metadata": {},
   "outputs": [],
   "source": [
    "# converting the datatype\n",
    "df['Date_launched']= df['Date_launched'].astype(str)\n",
    "#converting the datatype\n",
    "df['Deadline_date']=df['Deadline_date'].astype(str)\n",
    "#converting the datatype\n",
    "df['project_duration']=df['project_duration'].astype(str)"
   ]
  },
  {
   "cell_type": "code",
   "execution_count": 23,
   "metadata": {},
   "outputs": [],
   "source": [
    "#converting the datatype and applying lambda function to get rid of unnessary string \n",
    "df['project_duration']= df['project_duration'].apply(lambda st: st.replace('days 00:00:00.000000000', '')).astype(int)"
   ]
  },
  {
   "cell_type": "code",
   "execution_count": 24,
   "metadata": {},
   "outputs": [
    {
     "data": {
      "text/plain": [
       "name                 object\n",
       "category             object\n",
       "main_category        object\n",
       "currency             object\n",
       "goal                float64\n",
       "pledged             float64\n",
       "state                object\n",
       "backers               int64\n",
       "country              object\n",
       "Date_launched        object\n",
       "Time_lanunched       object\n",
       "Deadline_date        object\n",
       "Deadline_time        object\n",
       "project_duration      int64\n",
       "year_l                int64\n",
       "month_l               int64\n",
       "day_l                 int64\n",
       "year_D                int64\n",
       "month_D               int64\n",
       "day_D                 int64\n",
       "dtype: object"
      ]
     },
     "execution_count": 24,
     "metadata": {},
     "output_type": "execute_result"
    }
   ],
   "source": [
    "#checking datatypes again\n",
    "df.dtypes"
   ]
  },
  {
   "cell_type": "markdown",
   "metadata": {},
   "source": [
    "Since we have already extracted the year, month and day we need to drop the columns ['Date_launched'] and ['Deadline_date']"
   ]
  },
  {
   "cell_type": "code",
   "execution_count": 25,
   "metadata": {},
   "outputs": [],
   "source": [
    "# drop columns \n",
    "df.drop(['Date_launched','Deadline_date'], axis=1, inplace = True)"
   ]
  },
  {
   "cell_type": "markdown",
   "metadata": {},
   "source": [
    "We have two columns ['Time_launched'] and ['Deadline_time'] which can gives us some good information about favourable time or certain days of the week to launch the project or end the project. Our goal here is to convert the time in hour."
   ]
  },
  {
   "cell_type": "code",
   "execution_count": 26,
   "metadata": {},
   "outputs": [],
   "source": [
    "\n",
    "df['Time_lanunched'] = pd.to_datetime(df['Time_lanunched'], format='%H:%M:%S').dt.time\n",
    "\n",
    "df['hour_launched'] = pd.to_datetime(df['Time_lanunched'], format='%H:%M:%S').dt.hour\n",
    "\n",
    "df['Deadline_Time'] = pd.to_datetime(df['Deadline_time'], format='%H:%M:%S').dt.time\n",
    "\n",
    "df['hour_deadline'] = pd.to_datetime(df['Deadline_Time'], format='%H:%M:%S').dt.hour"
   ]
  },
  {
   "cell_type": "code",
   "execution_count": 27,
   "metadata": {},
   "outputs": [],
   "source": [
    "#drop the columns\n",
    "df.drop(['Time_lanunched','Deadline_Time', 'Deadline_time'], axis=1, inplace = True)"
   ]
  },
  {
   "cell_type": "code",
   "execution_count": 28,
   "metadata": {
    "scrolled": false
   },
   "outputs": [
    {
     "data": {
      "text/html": [
       "<div>\n",
       "<style scoped>\n",
       "    .dataframe tbody tr th:only-of-type {\n",
       "        vertical-align: middle;\n",
       "    }\n",
       "\n",
       "    .dataframe tbody tr th {\n",
       "        vertical-align: top;\n",
       "    }\n",
       "\n",
       "    .dataframe thead th {\n",
       "        text-align: right;\n",
       "    }\n",
       "</style>\n",
       "<table border=\"1\" class=\"dataframe\">\n",
       "  <thead>\n",
       "    <tr style=\"text-align: right;\">\n",
       "      <th></th>\n",
       "      <th>name</th>\n",
       "      <th>category</th>\n",
       "      <th>main_category</th>\n",
       "      <th>currency</th>\n",
       "      <th>goal</th>\n",
       "      <th>pledged</th>\n",
       "      <th>state</th>\n",
       "      <th>backers</th>\n",
       "      <th>country</th>\n",
       "      <th>project_duration</th>\n",
       "      <th>year_l</th>\n",
       "      <th>month_l</th>\n",
       "      <th>day_l</th>\n",
       "      <th>year_D</th>\n",
       "      <th>month_D</th>\n",
       "      <th>day_D</th>\n",
       "      <th>hour_launched</th>\n",
       "      <th>hour_deadline</th>\n",
       "    </tr>\n",
       "  </thead>\n",
       "  <tbody>\n",
       "    <tr>\n",
       "      <th>0</th>\n",
       "      <td>The Songs of Adelaide &amp; Abullah</td>\n",
       "      <td>Poetry</td>\n",
       "      <td>Publishing</td>\n",
       "      <td>GBP</td>\n",
       "      <td>1000.0</td>\n",
       "      <td>0.0</td>\n",
       "      <td>failed</td>\n",
       "      <td>0</td>\n",
       "      <td>GB</td>\n",
       "      <td>59</td>\n",
       "      <td>2015</td>\n",
       "      <td>8</td>\n",
       "      <td>11</td>\n",
       "      <td>2015</td>\n",
       "      <td>10</td>\n",
       "      <td>9</td>\n",
       "      <td>12</td>\n",
       "      <td>11</td>\n",
       "    </tr>\n",
       "    <tr>\n",
       "      <th>1</th>\n",
       "      <td>Where is Hank?</td>\n",
       "      <td>Narrative Film</td>\n",
       "      <td>Film &amp; Video</td>\n",
       "      <td>USD</td>\n",
       "      <td>45000.0</td>\n",
       "      <td>220.0</td>\n",
       "      <td>failed</td>\n",
       "      <td>3</td>\n",
       "      <td>US</td>\n",
       "      <td>45</td>\n",
       "      <td>2013</td>\n",
       "      <td>1</td>\n",
       "      <td>12</td>\n",
       "      <td>2013</td>\n",
       "      <td>2</td>\n",
       "      <td>26</td>\n",
       "      <td>0</td>\n",
       "      <td>0</td>\n",
       "    </tr>\n",
       "  </tbody>\n",
       "</table>\n",
       "</div>"
      ],
      "text/plain": [
       "                              name        category main_category currency  \\\n",
       "0  The Songs of Adelaide & Abullah          Poetry    Publishing      GBP   \n",
       "1                   Where is Hank?  Narrative Film  Film & Video      USD   \n",
       "\n",
       "      goal  pledged   state  backers country  project_duration  year_l  \\\n",
       "0   1000.0      0.0  failed        0      GB                59    2015   \n",
       "1  45000.0    220.0  failed        3      US                45    2013   \n",
       "\n",
       "   month_l  day_l  year_D  month_D  day_D  hour_launched  hour_deadline  \n",
       "0        8     11    2015       10      9             12             11  \n",
       "1        1     12    2013        2     26              0              0  "
      ]
     },
     "execution_count": 28,
     "metadata": {},
     "output_type": "execute_result"
    }
   ],
   "source": [
    "#check the work\n",
    "df.head(2)"
   ]
  },
  {
   "cell_type": "code",
   "execution_count": 74,
   "metadata": {},
   "outputs": [],
   "source": [
    "#length of project name\n",
    "df['len_project_name']= df['name'].apply(len)"
   ]
  },
  {
   "cell_type": "code",
   "execution_count": 75,
   "metadata": {
    "scrolled": true
   },
   "outputs": [
    {
     "data": {
      "text/html": [
       "<div>\n",
       "<style scoped>\n",
       "    .dataframe tbody tr th:only-of-type {\n",
       "        vertical-align: middle;\n",
       "    }\n",
       "\n",
       "    .dataframe tbody tr th {\n",
       "        vertical-align: top;\n",
       "    }\n",
       "\n",
       "    .dataframe thead th {\n",
       "        text-align: right;\n",
       "    }\n",
       "</style>\n",
       "<table border=\"1\" class=\"dataframe\">\n",
       "  <thead>\n",
       "    <tr style=\"text-align: right;\">\n",
       "      <th></th>\n",
       "      <th>goal</th>\n",
       "      <th>pledged</th>\n",
       "      <th>state</th>\n",
       "      <th>backers</th>\n",
       "      <th>project_duration</th>\n",
       "      <th>year_l</th>\n",
       "      <th>month_l</th>\n",
       "      <th>day_l</th>\n",
       "      <th>year_D</th>\n",
       "      <th>month_D</th>\n",
       "      <th>day_D</th>\n",
       "      <th>hour_launched</th>\n",
       "      <th>hour_deadline</th>\n",
       "      <th>len_project_name</th>\n",
       "    </tr>\n",
       "  </thead>\n",
       "  <tbody>\n",
       "    <tr>\n",
       "      <th>goal</th>\n",
       "      <td>1.000000</td>\n",
       "      <td>0.007925</td>\n",
       "      <td>-0.025280</td>\n",
       "      <td>0.006089</td>\n",
       "      <td>0.021979</td>\n",
       "      <td>0.018426</td>\n",
       "      <td>0.000062</td>\n",
       "      <td>-0.002834</td>\n",
       "      <td>0.018704</td>\n",
       "      <td>0.002039</td>\n",
       "      <td>-0.001269</td>\n",
       "      <td>0.002666</td>\n",
       "      <td>0.006277</td>\n",
       "      <td>-0.004956</td>\n",
       "    </tr>\n",
       "    <tr>\n",
       "      <th>pledged</th>\n",
       "      <td>0.007925</td>\n",
       "      <td>1.000000</td>\n",
       "      <td>0.104722</td>\n",
       "      <td>0.750484</td>\n",
       "      <td>0.007562</td>\n",
       "      <td>0.024857</td>\n",
       "      <td>-0.000324</td>\n",
       "      <td>-0.001678</td>\n",
       "      <td>0.024493</td>\n",
       "      <td>0.003983</td>\n",
       "      <td>0.001040</td>\n",
       "      <td>0.007742</td>\n",
       "      <td>-0.007205</td>\n",
       "      <td>0.028791</td>\n",
       "    </tr>\n",
       "    <tr>\n",
       "      <th>state</th>\n",
       "      <td>-0.025280</td>\n",
       "      <td>0.104722</td>\n",
       "      <td>1.000000</td>\n",
       "      <td>0.116516</td>\n",
       "      <td>-0.110823</td>\n",
       "      <td>-0.109387</td>\n",
       "      <td>-0.010483</td>\n",
       "      <td>-0.013467</td>\n",
       "      <td>-0.113188</td>\n",
       "      <td>-0.006469</td>\n",
       "      <td>-0.020493</td>\n",
       "      <td>0.005987</td>\n",
       "      <td>-0.053294</td>\n",
       "      <td>0.100160</td>\n",
       "    </tr>\n",
       "    <tr>\n",
       "      <th>backers</th>\n",
       "      <td>0.006089</td>\n",
       "      <td>0.750484</td>\n",
       "      <td>0.116516</td>\n",
       "      <td>1.000000</td>\n",
       "      <td>-0.000463</td>\n",
       "      <td>0.017214</td>\n",
       "      <td>-0.002573</td>\n",
       "      <td>-0.001157</td>\n",
       "      <td>0.016474</td>\n",
       "      <td>0.002764</td>\n",
       "      <td>-0.000355</td>\n",
       "      <td>0.010289</td>\n",
       "      <td>-0.009103</td>\n",
       "      <td>0.019375</td>\n",
       "    </tr>\n",
       "    <tr>\n",
       "      <th>project_duration</th>\n",
       "      <td>0.021979</td>\n",
       "      <td>0.007562</td>\n",
       "      <td>-0.110823</td>\n",
       "      <td>-0.000463</td>\n",
       "      <td>1.000000</td>\n",
       "      <td>-0.187022</td>\n",
       "      <td>-0.019592</td>\n",
       "      <td>-0.002751</td>\n",
       "      <td>-0.166258</td>\n",
       "      <td>-0.027925</td>\n",
       "      <td>-0.000593</td>\n",
       "      <td>-0.019646</td>\n",
       "      <td>-0.008842</td>\n",
       "      <td>0.020288</td>\n",
       "    </tr>\n",
       "    <tr>\n",
       "      <th>year_l</th>\n",
       "      <td>0.018426</td>\n",
       "      <td>0.024857</td>\n",
       "      <td>-0.109387</td>\n",
       "      <td>0.017214</td>\n",
       "      <td>-0.187022</td>\n",
       "      <td>1.000000</td>\n",
       "      <td>-0.129433</td>\n",
       "      <td>-0.007965</td>\n",
       "      <td>0.989499</td>\n",
       "      <td>-0.037834</td>\n",
       "      <td>0.015538</td>\n",
       "      <td>0.057757</td>\n",
       "      <td>0.068353</td>\n",
       "      <td>-0.078298</td>\n",
       "    </tr>\n",
       "    <tr>\n",
       "      <th>month_l</th>\n",
       "      <td>0.000062</td>\n",
       "      <td>-0.000324</td>\n",
       "      <td>-0.010483</td>\n",
       "      <td>-0.002573</td>\n",
       "      <td>-0.019592</td>\n",
       "      <td>-0.129433</td>\n",
       "      <td>1.000000</td>\n",
       "      <td>-0.036684</td>\n",
       "      <td>-0.067942</td>\n",
       "      <td>0.608143</td>\n",
       "      <td>-0.010713</td>\n",
       "      <td>0.006532</td>\n",
       "      <td>-0.004296</td>\n",
       "      <td>0.014718</td>\n",
       "    </tr>\n",
       "    <tr>\n",
       "      <th>day_l</th>\n",
       "      <td>-0.002834</td>\n",
       "      <td>-0.001678</td>\n",
       "      <td>-0.013467</td>\n",
       "      <td>-0.001157</td>\n",
       "      <td>-0.002751</td>\n",
       "      <td>-0.007965</td>\n",
       "      <td>-0.036684</td>\n",
       "      <td>1.000000</td>\n",
       "      <td>-0.007372</td>\n",
       "      <td>0.007213</td>\n",
       "      <td>0.438406</td>\n",
       "      <td>0.001633</td>\n",
       "      <td>0.001281</td>\n",
       "      <td>-0.002167</td>\n",
       "    </tr>\n",
       "    <tr>\n",
       "      <th>year_D</th>\n",
       "      <td>0.018704</td>\n",
       "      <td>0.024493</td>\n",
       "      <td>-0.113188</td>\n",
       "      <td>0.016474</td>\n",
       "      <td>-0.166258</td>\n",
       "      <td>0.989499</td>\n",
       "      <td>-0.067942</td>\n",
       "      <td>-0.007372</td>\n",
       "      <td>1.000000</td>\n",
       "      <td>-0.102546</td>\n",
       "      <td>0.006036</td>\n",
       "      <td>0.057458</td>\n",
       "      <td>0.067378</td>\n",
       "      <td>-0.078989</td>\n",
       "    </tr>\n",
       "    <tr>\n",
       "      <th>month_D</th>\n",
       "      <td>0.002039</td>\n",
       "      <td>0.003983</td>\n",
       "      <td>-0.006469</td>\n",
       "      <td>0.002764</td>\n",
       "      <td>-0.027925</td>\n",
       "      <td>-0.037834</td>\n",
       "      <td>0.608143</td>\n",
       "      <td>0.007213</td>\n",
       "      <td>-0.102546</td>\n",
       "      <td>1.000000</td>\n",
       "      <td>-0.003440</td>\n",
       "      <td>0.008235</td>\n",
       "      <td>0.000655</td>\n",
       "      <td>0.017760</td>\n",
       "    </tr>\n",
       "    <tr>\n",
       "      <th>day_D</th>\n",
       "      <td>-0.001269</td>\n",
       "      <td>0.001040</td>\n",
       "      <td>-0.020493</td>\n",
       "      <td>-0.000355</td>\n",
       "      <td>-0.000593</td>\n",
       "      <td>0.015538</td>\n",
       "      <td>-0.010713</td>\n",
       "      <td>0.438406</td>\n",
       "      <td>0.006036</td>\n",
       "      <td>-0.003440</td>\n",
       "      <td>1.000000</td>\n",
       "      <td>0.008410</td>\n",
       "      <td>0.040636</td>\n",
       "      <td>-0.005657</td>\n",
       "    </tr>\n",
       "    <tr>\n",
       "      <th>hour_launched</th>\n",
       "      <td>0.002666</td>\n",
       "      <td>0.007742</td>\n",
       "      <td>0.005987</td>\n",
       "      <td>0.010289</td>\n",
       "      <td>-0.019646</td>\n",
       "      <td>0.057757</td>\n",
       "      <td>0.006532</td>\n",
       "      <td>0.001633</td>\n",
       "      <td>0.057458</td>\n",
       "      <td>0.008235</td>\n",
       "      <td>0.008410</td>\n",
       "      <td>1.000000</td>\n",
       "      <td>0.716924</td>\n",
       "      <td>-0.003172</td>\n",
       "    </tr>\n",
       "    <tr>\n",
       "      <th>hour_deadline</th>\n",
       "      <td>0.006277</td>\n",
       "      <td>-0.007205</td>\n",
       "      <td>-0.053294</td>\n",
       "      <td>-0.009103</td>\n",
       "      <td>-0.008842</td>\n",
       "      <td>0.068353</td>\n",
       "      <td>-0.004296</td>\n",
       "      <td>0.001281</td>\n",
       "      <td>0.067378</td>\n",
       "      <td>0.000655</td>\n",
       "      <td>0.040636</td>\n",
       "      <td>0.716924</td>\n",
       "      <td>1.000000</td>\n",
       "      <td>-0.019692</td>\n",
       "    </tr>\n",
       "    <tr>\n",
       "      <th>len_project_name</th>\n",
       "      <td>-0.004956</td>\n",
       "      <td>0.028791</td>\n",
       "      <td>0.100160</td>\n",
       "      <td>0.019375</td>\n",
       "      <td>0.020288</td>\n",
       "      <td>-0.078298</td>\n",
       "      <td>0.014718</td>\n",
       "      <td>-0.002167</td>\n",
       "      <td>-0.078989</td>\n",
       "      <td>0.017760</td>\n",
       "      <td>-0.005657</td>\n",
       "      <td>-0.003172</td>\n",
       "      <td>-0.019692</td>\n",
       "      <td>1.000000</td>\n",
       "    </tr>\n",
       "  </tbody>\n",
       "</table>\n",
       "</div>"
      ],
      "text/plain": [
       "                      goal   pledged     state   backers  project_duration  \\\n",
       "goal              1.000000  0.007925 -0.025280  0.006089          0.021979   \n",
       "pledged           0.007925  1.000000  0.104722  0.750484          0.007562   \n",
       "state            -0.025280  0.104722  1.000000  0.116516         -0.110823   \n",
       "backers           0.006089  0.750484  0.116516  1.000000         -0.000463   \n",
       "project_duration  0.021979  0.007562 -0.110823 -0.000463          1.000000   \n",
       "year_l            0.018426  0.024857 -0.109387  0.017214         -0.187022   \n",
       "month_l           0.000062 -0.000324 -0.010483 -0.002573         -0.019592   \n",
       "day_l            -0.002834 -0.001678 -0.013467 -0.001157         -0.002751   \n",
       "year_D            0.018704  0.024493 -0.113188  0.016474         -0.166258   \n",
       "month_D           0.002039  0.003983 -0.006469  0.002764         -0.027925   \n",
       "day_D            -0.001269  0.001040 -0.020493 -0.000355         -0.000593   \n",
       "hour_launched     0.002666  0.007742  0.005987  0.010289         -0.019646   \n",
       "hour_deadline     0.006277 -0.007205 -0.053294 -0.009103         -0.008842   \n",
       "len_project_name -0.004956  0.028791  0.100160  0.019375          0.020288   \n",
       "\n",
       "                    year_l   month_l     day_l    year_D   month_D     day_D  \\\n",
       "goal              0.018426  0.000062 -0.002834  0.018704  0.002039 -0.001269   \n",
       "pledged           0.024857 -0.000324 -0.001678  0.024493  0.003983  0.001040   \n",
       "state            -0.109387 -0.010483 -0.013467 -0.113188 -0.006469 -0.020493   \n",
       "backers           0.017214 -0.002573 -0.001157  0.016474  0.002764 -0.000355   \n",
       "project_duration -0.187022 -0.019592 -0.002751 -0.166258 -0.027925 -0.000593   \n",
       "year_l            1.000000 -0.129433 -0.007965  0.989499 -0.037834  0.015538   \n",
       "month_l          -0.129433  1.000000 -0.036684 -0.067942  0.608143 -0.010713   \n",
       "day_l            -0.007965 -0.036684  1.000000 -0.007372  0.007213  0.438406   \n",
       "year_D            0.989499 -0.067942 -0.007372  1.000000 -0.102546  0.006036   \n",
       "month_D          -0.037834  0.608143  0.007213 -0.102546  1.000000 -0.003440   \n",
       "day_D             0.015538 -0.010713  0.438406  0.006036 -0.003440  1.000000   \n",
       "hour_launched     0.057757  0.006532  0.001633  0.057458  0.008235  0.008410   \n",
       "hour_deadline     0.068353 -0.004296  0.001281  0.067378  0.000655  0.040636   \n",
       "len_project_name -0.078298  0.014718 -0.002167 -0.078989  0.017760 -0.005657   \n",
       "\n",
       "                  hour_launched  hour_deadline  len_project_name  \n",
       "goal                   0.002666       0.006277         -0.004956  \n",
       "pledged                0.007742      -0.007205          0.028791  \n",
       "state                  0.005987      -0.053294          0.100160  \n",
       "backers                0.010289      -0.009103          0.019375  \n",
       "project_duration      -0.019646      -0.008842          0.020288  \n",
       "year_l                 0.057757       0.068353         -0.078298  \n",
       "month_l                0.006532      -0.004296          0.014718  \n",
       "day_l                  0.001633       0.001281         -0.002167  \n",
       "year_D                 0.057458       0.067378         -0.078989  \n",
       "month_D                0.008235       0.000655          0.017760  \n",
       "day_D                  0.008410       0.040636         -0.005657  \n",
       "hour_launched          1.000000       0.716924         -0.003172  \n",
       "hour_deadline          0.716924       1.000000         -0.019692  \n",
       "len_project_name      -0.003172      -0.019692          1.000000  "
      ]
     },
     "execution_count": 75,
     "metadata": {},
     "output_type": "execute_result"
    }
   ],
   "source": [
    "#see correlations\n",
    "df.corr()"
   ]
  },
  {
   "cell_type": "markdown",
   "metadata": {},
   "source": [
    "## Mean duration of Failed and Successful Campaigns"
   ]
  },
  {
   "cell_type": "code",
   "execution_count": 141,
   "metadata": {},
   "outputs": [
    {
     "name": "stdout",
     "output_type": "stream",
     "text": [
      "Mean duration of failed campaigns 35.374402931361644\n",
      "Mean duration of successful campaigns 32.46172638436482\n"
     ]
    }
   ],
   "source": [
    "failed = df.loc[df.state==0] # 0 is failed \n",
    "successful = df.loc[df.state==1] # 1 successful\n",
    "\n",
    "print('Mean duration of failed campaigns',failed['project_duration'].mean())\n",
    "print('Mean duration of successful campaigns',successful['project_duration'].mean())"
   ]
  },
  {
   "cell_type": "markdown",
   "metadata": {},
   "source": [
    "# Data Visualization"
   ]
  },
  {
   "cell_type": "code",
   "execution_count": 132,
   "metadata": {},
   "outputs": [
    {
     "data": {
      "image/png": "[encoded data removed]",
      "text/plain": [
       "<Figure size 504x504 with 1 Axes>"
      ]
     },
     "metadata": {
      "needs_background": "light"
     },
     "output_type": "display_data"
    }
   ],
   "source": [
    "#no of campaigns vs year\n",
    "successful['year_l'].value_counts().plot(kind='barh', figsize=(7,7))\n",
    "plt.xlabel(\"Year\")\n",
    "plt.ylabel(\"Number of Campaigns\")\n",
    "plt.title(\"No of successful Campaigns vs Year\")\n",
    "plt.savefig(\"year.png\")\n",
    "plt.show()"
   ]
  },
  {
   "cell_type": "code",
   "execution_count": 133,
   "metadata": {},
   "outputs": [
    {
     "data": {
      "image/png": "[encoded data removed]",
      "text/plain": [
       "<Figure size 504x504 with 1 Axes>"
      ]
     },
     "metadata": {
      "needs_background": "light"
     },
     "output_type": "display_data"
    }
   ],
   "source": [
    "# no of campaigns vs month\n",
    "successful['month_l'].value_counts().plot(kind='barh', figsize=(7,7))\n",
    "plt.xlabel(\"Month\")\n",
    "plt.ylabel(\"Number of Successful Campaigns\")\n",
    "plt.title(\"No of successful Campaigns vs Month\")\n",
    "plt.savefig(\"month.png\")\n",
    "plt.show()"
   ]
  },
  {
   "cell_type": "code",
   "execution_count": 134,
   "metadata": {},
   "outputs": [
    {
     "data": {
      "image/png": "[encoded data removed]",
      "text/plain": [
       "<Figure size 504x504 with 1 Axes>"
      ]
     },
     "metadata": {
      "needs_background": "light"
     },
     "output_type": "display_data"
    }
   ],
   "source": [
    "successful['day_l'].value_counts().plot(kind='barh',figsize=(7,7) )\n",
    "plt.ylabel(\"Number of Campaigns\")\n",
    "plt.title(\"No of successful Campaigns vs Day\")\n",
    "plt.savefig(\"day.png\")\n",
    "plt.show()"
   ]
  },
  {
   "cell_type": "code",
   "execution_count": 69,
   "metadata": {},
   "outputs": [
    {
     "data": {
      "text/plain": [
       "Film & Video    18.155460\n",
       "Music           14.517822\n",
       "Publishing      10.723650\n",
       "Games            7.967939\n",
       "Art              7.735984\n",
       "Technology       7.615026\n",
       "Design           7.114117\n",
       "Food             6.708907\n",
       "Fashion          5.624197\n",
       "Theater          3.318166\n",
       "Photography      3.075894\n",
       "Comics           2.812277\n",
       "Crafts           2.241639\n",
       "Journalism       1.254051\n",
       "Dance            1.134872\n",
       "Name: main_category, dtype: float64"
      ]
     },
     "execution_count": 69,
     "metadata": {},
     "output_type": "execute_result"
    }
   ],
   "source": [
    "df['main_category'].value_counts(normalize=True)*100"
   ]
  },
  {
   "cell_type": "code",
   "execution_count": 142,
   "metadata": {
    "scrolled": false
   },
   "outputs": [
    {
     "data": {
      "image/png": "[encoded data removed]",
      "text/plain": [
       "<Figure size 504x504 with 1 Axes>"
      ]
     },
     "metadata": {
      "needs_background": "light"
     },
     "output_type": "display_data"
    }
   ],
   "source": [
    "# number of projects vs main_category\n",
    "successful['main_category'].value_counts().plot(kind='barh', figsize= (7,7))\n",
    "plt.xlabel('Number of projects')\n",
    "plt.ylabel('Main_category')\n",
    "plt.title('Number of successful project vs Main_category')\n",
    "plt.savefig(\"main_category.png\")\n",
    "plt.show()"
   ]
  },
  {
   "cell_type": "code",
   "execution_count": 136,
   "metadata": {},
   "outputs": [
    {
     "data": {
      "image/png": "[encoded data removed]",
      "text/plain": [
       "<Figure size 504x504 with 1 Axes>"
      ]
     },
     "metadata": {
      "needs_background": "light"
     },
     "output_type": "display_data"
    }
   ],
   "source": [
    "#project vs time\n",
    "successful['hour_launched'].value_counts().plot(kind='barh', figsize= (7,7))\n",
    "plt.xlabel('Number of Projects')\n",
    "plt.ylabel('Time Project Launched')\n",
    "plt.title('Number of project vs Time_launched')\n",
    "plt.savefig( \"Time.png\")\n",
    "plt.show()"
   ]
  },
  {
   "cell_type": "code",
   "execution_count": 137,
   "metadata": {
    "scrolled": false
   },
   "outputs": [
    {
     "data": {
      "image/png": "[encoded data removed]",
      "text/plain": [
       "<Figure size 504x504 with 1 Axes>"
      ]
     },
     "metadata": {
      "needs_background": "light"
     },
     "output_type": "display_data"
    }
   ],
   "source": [
    "plt.figure(figsize= (7,7))\n",
    "plt.hist(df['project_duration'], bins= 10)\n",
    "plt.axvline(successful['project_duration'].mean(), color= 'red', label = 'Mean duration Project successful')\n",
    "plt.axvline(failed['project_duration'].mean(), color = 'yellow', label = 'Mean duration Project failed')\n",
    "plt.axvline()\n",
    "plt.xlabel('Project Duration')\n",
    "plt.ylabel('Number of Campaigns ')\n",
    "plt.legend()\n",
    "plt.title('Number of Campaigns vs Project Duration')\n",
    "plt.savefig(\"project_duration.png\")\n",
    "plt.show()"
   ]
  },
  {
   "cell_type": "code",
   "execution_count": 118,
   "metadata": {},
   "outputs": [
    {
     "data": {
      "text/plain": [
       "253.86004107066987"
      ]
     },
     "execution_count": 118,
     "metadata": {},
     "output_type": "execute_result"
    }
   ],
   "source": [
    "successful['backers'].mean()"
   ]
  },
  {
   "cell_type": "markdown",
   "metadata": {},
   "source": [
    "# Baseline Accuracy Score of Target varibale"
   ]
  },
  {
   "cell_type": "code",
   "execution_count": 40,
   "metadata": {},
   "outputs": [
    {
     "data": {
      "text/plain": [
       "failed        0.598077\n",
       "successful    0.401923\n",
       "Name: state, dtype: float64"
      ]
     },
     "execution_count": 40,
     "metadata": {},
     "output_type": "execute_result"
    }
   ],
   "source": [
    "df['state'].value_counts(normalize= True)"
   ]
  },
  {
   "cell_type": "markdown",
   "metadata": {},
   "source": [
    "### Binarize Target Variable"
   ]
  },
  {
   "cell_type": "code",
   "execution_count": 41,
   "metadata": {},
   "outputs": [],
   "source": [
    "#binarize the target varibale df_train['state']\n",
    "df['state']= df['state'].map(lambda st: 1 if st == 'successful' else 0)"
   ]
  },
  {
   "cell_type": "markdown",
   "metadata": {},
   "source": [
    "# Pre processing step before modeling"
   ]
  },
  {
   "cell_type": "markdown",
   "metadata": {},
   "source": [
    "We need to convert our categorical features to numerical features so that we can use these features to fit in our model which could be helpful for our model to generalize very well with our unknown observation"
   ]
  },
  {
   "cell_type": "code",
   "execution_count": 76,
   "metadata": {},
   "outputs": [
    {
     "data": {
      "text/html": [
       "<div>\n",
       "<style scoped>\n",
       "    .dataframe tbody tr th:only-of-type {\n",
       "        vertical-align: middle;\n",
       "    }\n",
       "\n",
       "    .dataframe tbody tr th {\n",
       "        vertical-align: top;\n",
       "    }\n",
       "\n",
       "    .dataframe thead th {\n",
       "        text-align: right;\n",
       "    }\n",
       "</style>\n",
       "<table border=\"1\" class=\"dataframe\">\n",
       "  <thead>\n",
       "    <tr style=\"text-align: right;\">\n",
       "      <th></th>\n",
       "      <th>name</th>\n",
       "      <th>category</th>\n",
       "      <th>main_category</th>\n",
       "      <th>currency</th>\n",
       "      <th>country</th>\n",
       "    </tr>\n",
       "  </thead>\n",
       "  <tbody>\n",
       "    <tr>\n",
       "      <th>0</th>\n",
       "      <td>The Songs of Adelaide &amp; Abullah</td>\n",
       "      <td>Poetry</td>\n",
       "      <td>Publishing</td>\n",
       "      <td>GBP</td>\n",
       "      <td>GB</td>\n",
       "    </tr>\n",
       "    <tr>\n",
       "      <th>1</th>\n",
       "      <td>Where is Hank?</td>\n",
       "      <td>Narrative Film</td>\n",
       "      <td>Film &amp; Video</td>\n",
       "      <td>USD</td>\n",
       "      <td>US</td>\n",
       "    </tr>\n",
       "    <tr>\n",
       "      <th>2</th>\n",
       "      <td>ToshiCapital Rekordz Needs Help to Complete Album</td>\n",
       "      <td>Music</td>\n",
       "      <td>Music</td>\n",
       "      <td>USD</td>\n",
       "      <td>US</td>\n",
       "    </tr>\n",
       "    <tr>\n",
       "      <th>4</th>\n",
       "      <td>Monarch Espresso Bar</td>\n",
       "      <td>Restaurants</td>\n",
       "      <td>Food</td>\n",
       "      <td>USD</td>\n",
       "      <td>US</td>\n",
       "    </tr>\n",
       "    <tr>\n",
       "      <th>5</th>\n",
       "      <td>Support Solar Roasted Coffee &amp; Green Energy!  ...</td>\n",
       "      <td>Food</td>\n",
       "      <td>Food</td>\n",
       "      <td>USD</td>\n",
       "      <td>US</td>\n",
       "    </tr>\n",
       "  </tbody>\n",
       "</table>\n",
       "</div>"
      ],
      "text/plain": [
       "                                                name        category  \\\n",
       "0                    The Songs of Adelaide & Abullah          Poetry   \n",
       "1                                     Where is Hank?  Narrative Film   \n",
       "2  ToshiCapital Rekordz Needs Help to Complete Album           Music   \n",
       "4                               Monarch Espresso Bar     Restaurants   \n",
       "5  Support Solar Roasted Coffee & Green Energy!  ...            Food   \n",
       "\n",
       "  main_category currency country  \n",
       "0    Publishing      GBP      GB  \n",
       "1  Film & Video      USD      US  \n",
       "2         Music      USD      US  \n",
       "4          Food      USD      US  \n",
       "5          Food      USD      US  "
      ]
     },
     "execution_count": 76,
     "metadata": {},
     "output_type": "execute_result"
    }
   ],
   "source": [
    "# get only the categorical features from the main dataframe\n",
    "df_cat= df.select_dtypes(include=('object'))\n",
    "df_cat.head()"
   ]
  },
  {
   "cell_type": "code",
   "execution_count": 77,
   "metadata": {},
   "outputs": [
    {
     "data": {
      "text/html": [
       "<div>\n",
       "<style scoped>\n",
       "    .dataframe tbody tr th:only-of-type {\n",
       "        vertical-align: middle;\n",
       "    }\n",
       "\n",
       "    .dataframe tbody tr th {\n",
       "        vertical-align: top;\n",
       "    }\n",
       "\n",
       "    .dataframe thead th {\n",
       "        text-align: right;\n",
       "    }\n",
       "</style>\n",
       "<table border=\"1\" class=\"dataframe\">\n",
       "  <thead>\n",
       "    <tr style=\"text-align: right;\">\n",
       "      <th></th>\n",
       "      <th>goal</th>\n",
       "      <th>pledged</th>\n",
       "      <th>state</th>\n",
       "      <th>backers</th>\n",
       "      <th>project_duration</th>\n",
       "      <th>year_l</th>\n",
       "      <th>month_l</th>\n",
       "      <th>day_l</th>\n",
       "      <th>year_D</th>\n",
       "      <th>month_D</th>\n",
       "      <th>day_D</th>\n",
       "      <th>hour_launched</th>\n",
       "      <th>hour_deadline</th>\n",
       "      <th>len_project_name</th>\n",
       "    </tr>\n",
       "  </thead>\n",
       "  <tbody>\n",
       "    <tr>\n",
       "      <th>0</th>\n",
       "      <td>1000.0</td>\n",
       "      <td>0.0</td>\n",
       "      <td>0</td>\n",
       "      <td>0</td>\n",
       "      <td>59</td>\n",
       "      <td>2015</td>\n",
       "      <td>8</td>\n",
       "      <td>11</td>\n",
       "      <td>2015</td>\n",
       "      <td>10</td>\n",
       "      <td>9</td>\n",
       "      <td>12</td>\n",
       "      <td>11</td>\n",
       "      <td>31</td>\n",
       "    </tr>\n",
       "    <tr>\n",
       "      <th>1</th>\n",
       "      <td>45000.0</td>\n",
       "      <td>220.0</td>\n",
       "      <td>0</td>\n",
       "      <td>3</td>\n",
       "      <td>45</td>\n",
       "      <td>2013</td>\n",
       "      <td>1</td>\n",
       "      <td>12</td>\n",
       "      <td>2013</td>\n",
       "      <td>2</td>\n",
       "      <td>26</td>\n",
       "      <td>0</td>\n",
       "      <td>0</td>\n",
       "      <td>14</td>\n",
       "    </tr>\n",
       "    <tr>\n",
       "      <th>2</th>\n",
       "      <td>5000.0</td>\n",
       "      <td>1.0</td>\n",
       "      <td>0</td>\n",
       "      <td>1</td>\n",
       "      <td>30</td>\n",
       "      <td>2012</td>\n",
       "      <td>3</td>\n",
       "      <td>17</td>\n",
       "      <td>2012</td>\n",
       "      <td>4</td>\n",
       "      <td>16</td>\n",
       "      <td>3</td>\n",
       "      <td>4</td>\n",
       "      <td>49</td>\n",
       "    </tr>\n",
       "    <tr>\n",
       "      <th>4</th>\n",
       "      <td>50000.0</td>\n",
       "      <td>52375.0</td>\n",
       "      <td>1</td>\n",
       "      <td>224</td>\n",
       "      <td>35</td>\n",
       "      <td>2016</td>\n",
       "      <td>2</td>\n",
       "      <td>26</td>\n",
       "      <td>2016</td>\n",
       "      <td>4</td>\n",
       "      <td>1</td>\n",
       "      <td>13</td>\n",
       "      <td>13</td>\n",
       "      <td>20</td>\n",
       "    </tr>\n",
       "    <tr>\n",
       "      <th>5</th>\n",
       "      <td>1000.0</td>\n",
       "      <td>1205.0</td>\n",
       "      <td>1</td>\n",
       "      <td>16</td>\n",
       "      <td>20</td>\n",
       "      <td>2014</td>\n",
       "      <td>12</td>\n",
       "      <td>1</td>\n",
       "      <td>2014</td>\n",
       "      <td>12</td>\n",
       "      <td>21</td>\n",
       "      <td>18</td>\n",
       "      <td>18</td>\n",
       "      <td>60</td>\n",
       "    </tr>\n",
       "  </tbody>\n",
       "</table>\n",
       "</div>"
      ],
      "text/plain": [
       "      goal  pledged  state  backers  project_duration  year_l  month_l  day_l  \\\n",
       "0   1000.0      0.0      0        0                59    2015        8     11   \n",
       "1  45000.0    220.0      0        3                45    2013        1     12   \n",
       "2   5000.0      1.0      0        1                30    2012        3     17   \n",
       "4  50000.0  52375.0      1      224                35    2016        2     26   \n",
       "5   1000.0   1205.0      1       16                20    2014       12      1   \n",
       "\n",
       "   year_D  month_D  day_D  hour_launched  hour_deadline  len_project_name  \n",
       "0    2015       10      9             12             11                31  \n",
       "1    2013        2     26              0              0                14  \n",
       "2    2012        4     16              3              4                49  \n",
       "4    2016        4      1             13             13                20  \n",
       "5    2014       12     21             18             18                60  "
      ]
     },
     "execution_count": 77,
     "metadata": {},
     "output_type": "execute_result"
    }
   ],
   "source": [
    "# get the numerical features from the main dataframe\n",
    "df_num= df.select_dtypes(exclude=('object'))\n",
    "df_num.head()"
   ]
  },
  {
   "cell_type": "code",
   "execution_count": 78,
   "metadata": {},
   "outputs": [],
   "source": [
    "#instantiate the label encoder\n",
    "lb = LabelEncoder()"
   ]
  },
  {
   "cell_type": "code",
   "execution_count": 79,
   "metadata": {},
   "outputs": [
    {
     "data": {
      "text/html": [
       "<div>\n",
       "<style scoped>\n",
       "    .dataframe tbody tr th:only-of-type {\n",
       "        vertical-align: middle;\n",
       "    }\n",
       "\n",
       "    .dataframe tbody tr th {\n",
       "        vertical-align: top;\n",
       "    }\n",
       "\n",
       "    .dataframe thead th {\n",
       "        text-align: right;\n",
       "    }\n",
       "</style>\n",
       "<table border=\"1\" class=\"dataframe\">\n",
       "  <thead>\n",
       "    <tr style=\"text-align: right;\">\n",
       "      <th></th>\n",
       "      <th>name</th>\n",
       "      <th>category</th>\n",
       "      <th>main_category</th>\n",
       "      <th>currency</th>\n",
       "      <th>country</th>\n",
       "    </tr>\n",
       "  </thead>\n",
       "  <tbody>\n",
       "    <tr>\n",
       "      <th>0</th>\n",
       "      <td>242981</td>\n",
       "      <td>107</td>\n",
       "      <td>12</td>\n",
       "      <td>5</td>\n",
       "      <td>9</td>\n",
       "    </tr>\n",
       "    <tr>\n",
       "      <th>1</th>\n",
       "      <td>266320</td>\n",
       "      <td>92</td>\n",
       "      <td>6</td>\n",
       "      <td>12</td>\n",
       "      <td>20</td>\n",
       "    </tr>\n",
       "    <tr>\n",
       "      <th>2</th>\n",
       "      <td>251956</td>\n",
       "      <td>89</td>\n",
       "      <td>10</td>\n",
       "      <td>12</td>\n",
       "      <td>20</td>\n",
       "    </tr>\n",
       "    <tr>\n",
       "      <th>4</th>\n",
       "      <td>150165</td>\n",
       "      <td>122</td>\n",
       "      <td>7</td>\n",
       "      <td>12</td>\n",
       "      <td>20</td>\n",
       "    </tr>\n",
       "    <tr>\n",
       "      <th>5</th>\n",
       "      <td>212978</td>\n",
       "      <td>58</td>\n",
       "      <td>7</td>\n",
       "      <td>12</td>\n",
       "      <td>20</td>\n",
       "    </tr>\n",
       "  </tbody>\n",
       "</table>\n",
       "</div>"
      ],
      "text/plain": [
       "     name  category  main_category  currency  country\n",
       "0  242981       107             12         5        9\n",
       "1  266320        92              6        12       20\n",
       "2  251956        89             10        12       20\n",
       "4  150165       122              7        12       20\n",
       "5  212978        58              7        12       20"
      ]
     },
     "execution_count": 79,
     "metadata": {},
     "output_type": "execute_result"
    }
   ],
   "source": [
    "#fit transfrom the categorical features with label encoder\n",
    "df_cat= df_cat.apply(lb.fit_transform)\n",
    "df_cat.head()"
   ]
  },
  {
   "cell_type": "code",
   "execution_count": 80,
   "metadata": {
    "scrolled": true
   },
   "outputs": [
    {
     "data": {
      "text/html": [
       "<div>\n",
       "<style scoped>\n",
       "    .dataframe tbody tr th:only-of-type {\n",
       "        vertical-align: middle;\n",
       "    }\n",
       "\n",
       "    .dataframe tbody tr th {\n",
       "        vertical-align: top;\n",
       "    }\n",
       "\n",
       "    .dataframe thead th {\n",
       "        text-align: right;\n",
       "    }\n",
       "</style>\n",
       "<table border=\"1\" class=\"dataframe\">\n",
       "  <thead>\n",
       "    <tr style=\"text-align: right;\">\n",
       "      <th></th>\n",
       "      <th>name</th>\n",
       "      <th>category</th>\n",
       "      <th>main_category</th>\n",
       "      <th>currency</th>\n",
       "      <th>country</th>\n",
       "      <th>goal</th>\n",
       "      <th>pledged</th>\n",
       "      <th>state</th>\n",
       "      <th>backers</th>\n",
       "      <th>project_duration</th>\n",
       "      <th>year_l</th>\n",
       "      <th>month_l</th>\n",
       "      <th>day_l</th>\n",
       "      <th>year_D</th>\n",
       "      <th>month_D</th>\n",
       "      <th>day_D</th>\n",
       "      <th>hour_launched</th>\n",
       "      <th>hour_deadline</th>\n",
       "      <th>len_project_name</th>\n",
       "    </tr>\n",
       "  </thead>\n",
       "  <tbody>\n",
       "    <tr>\n",
       "      <th>0</th>\n",
       "      <td>242981</td>\n",
       "      <td>107</td>\n",
       "      <td>12</td>\n",
       "      <td>5</td>\n",
       "      <td>9</td>\n",
       "      <td>1000.0</td>\n",
       "      <td>0.0</td>\n",
       "      <td>0</td>\n",
       "      <td>0</td>\n",
       "      <td>59</td>\n",
       "      <td>2015</td>\n",
       "      <td>8</td>\n",
       "      <td>11</td>\n",
       "      <td>2015</td>\n",
       "      <td>10</td>\n",
       "      <td>9</td>\n",
       "      <td>12</td>\n",
       "      <td>11</td>\n",
       "      <td>31</td>\n",
       "    </tr>\n",
       "    <tr>\n",
       "      <th>1</th>\n",
       "      <td>266320</td>\n",
       "      <td>92</td>\n",
       "      <td>6</td>\n",
       "      <td>12</td>\n",
       "      <td>20</td>\n",
       "      <td>45000.0</td>\n",
       "      <td>220.0</td>\n",
       "      <td>0</td>\n",
       "      <td>3</td>\n",
       "      <td>45</td>\n",
       "      <td>2013</td>\n",
       "      <td>1</td>\n",
       "      <td>12</td>\n",
       "      <td>2013</td>\n",
       "      <td>2</td>\n",
       "      <td>26</td>\n",
       "      <td>0</td>\n",
       "      <td>0</td>\n",
       "      <td>14</td>\n",
       "    </tr>\n",
       "    <tr>\n",
       "      <th>2</th>\n",
       "      <td>251956</td>\n",
       "      <td>89</td>\n",
       "      <td>10</td>\n",
       "      <td>12</td>\n",
       "      <td>20</td>\n",
       "      <td>5000.0</td>\n",
       "      <td>1.0</td>\n",
       "      <td>0</td>\n",
       "      <td>1</td>\n",
       "      <td>30</td>\n",
       "      <td>2012</td>\n",
       "      <td>3</td>\n",
       "      <td>17</td>\n",
       "      <td>2012</td>\n",
       "      <td>4</td>\n",
       "      <td>16</td>\n",
       "      <td>3</td>\n",
       "      <td>4</td>\n",
       "      <td>49</td>\n",
       "    </tr>\n",
       "    <tr>\n",
       "      <th>4</th>\n",
       "      <td>150165</td>\n",
       "      <td>122</td>\n",
       "      <td>7</td>\n",
       "      <td>12</td>\n",
       "      <td>20</td>\n",
       "      <td>50000.0</td>\n",
       "      <td>52375.0</td>\n",
       "      <td>1</td>\n",
       "      <td>224</td>\n",
       "      <td>35</td>\n",
       "      <td>2016</td>\n",
       "      <td>2</td>\n",
       "      <td>26</td>\n",
       "      <td>2016</td>\n",
       "      <td>4</td>\n",
       "      <td>1</td>\n",
       "      <td>13</td>\n",
       "      <td>13</td>\n",
       "      <td>20</td>\n",
       "    </tr>\n",
       "    <tr>\n",
       "      <th>5</th>\n",
       "      <td>212978</td>\n",
       "      <td>58</td>\n",
       "      <td>7</td>\n",
       "      <td>12</td>\n",
       "      <td>20</td>\n",
       "      <td>1000.0</td>\n",
       "      <td>1205.0</td>\n",
       "      <td>1</td>\n",
       "      <td>16</td>\n",
       "      <td>20</td>\n",
       "      <td>2014</td>\n",
       "      <td>12</td>\n",
       "      <td>1</td>\n",
       "      <td>2014</td>\n",
       "      <td>12</td>\n",
       "      <td>21</td>\n",
       "      <td>18</td>\n",
       "      <td>18</td>\n",
       "      <td>60</td>\n",
       "    </tr>\n",
       "  </tbody>\n",
       "</table>\n",
       "</div>"
      ],
      "text/plain": [
       "     name  category  main_category  currency  country     goal  pledged  \\\n",
       "0  242981       107             12         5        9   1000.0      0.0   \n",
       "1  266320        92              6        12       20  45000.0    220.0   \n",
       "2  251956        89             10        12       20   5000.0      1.0   \n",
       "4  150165       122              7        12       20  50000.0  52375.0   \n",
       "5  212978        58              7        12       20   1000.0   1205.0   \n",
       "\n",
       "   state  backers  project_duration  year_l  month_l  day_l  year_D  month_D  \\\n",
       "0      0        0                59    2015        8     11    2015       10   \n",
       "1      0        3                45    2013        1     12    2013        2   \n",
       "2      0        1                30    2012        3     17    2012        4   \n",
       "4      1      224                35    2016        2     26    2016        4   \n",
       "5      1       16                20    2014       12      1    2014       12   \n",
       "\n",
       "   day_D  hour_launched  hour_deadline  len_project_name  \n",
       "0      9             12             11                31  \n",
       "1     26              0              0                14  \n",
       "2     16              3              4                49  \n",
       "4      1             13             13                20  \n",
       "5     21             18             18                60  "
      ]
     },
     "execution_count": 80,
     "metadata": {},
     "output_type": "execute_result"
    }
   ],
   "source": [
    "#merge the encoded categorical dataframe with the dataframe with numerical feature\n",
    "df_final= pd.concat([df_cat,df_num], axis=1)\n",
    "df_final.head()"
   ]
  },
  {
   "cell_type": "code",
   "execution_count": 177,
   "metadata": {},
   "outputs": [],
   "source": [
    "#Partitioning the Independent(predictor)variable and (response) variable\n",
    "features = [col for col in df_final.columns if col!= 'state' and col!= 'pledged']\n",
    "# #Independent(predictor) variable\n",
    "X= df_final[features]\n",
    "# #dependent(response) variable\n",
    "y = df_final['state']"
   ]
  },
  {
   "cell_type": "code",
   "execution_count": 178,
   "metadata": {},
   "outputs": [
    {
     "data": {
      "text/plain": [
       "0    168113\n",
       "1    112976\n",
       "Name: state, dtype: int64"
      ]
     },
     "execution_count": 178,
     "metadata": {},
     "output_type": "execute_result"
    }
   ],
   "source": [
    "y.value_counts()"
   ]
  },
  {
   "cell_type": "code",
   "execution_count": 179,
   "metadata": {},
   "outputs": [],
   "source": [
    "#train test split\n",
    "X_train, X_test, y_train, y_test= train_test_split(X, y, random_state=42, stratify= y)"
   ]
  },
  {
   "cell_type": "markdown",
   "metadata": {},
   "source": [
    "# Model Data"
   ]
  },
  {
   "cell_type": "code",
   "execution_count": 161,
   "metadata": {},
   "outputs": [],
   "source": [
    "#instantiate and fit the model\n",
    "gbc= GradientBoostingClassifier(criterion='friedman_mse', init=None,\n",
    "              learning_rate=0.1, loss='deviance', max_depth=8,\n",
    "              max_features='sqrt', max_leaf_nodes=None,\n",
    "              min_impurity_decrease=0.0, min_impurity_split=None,\n",
    "              min_samples_leaf=50, min_samples_split=500,\n",
    "              min_weight_fraction_leaf=0.0, n_estimators=80,\n",
    "              n_iter_no_change=None, presort='auto', random_state=10,\n",
    "              subsample=0.8, tol=0.0001, validation_fraction=0.1,\n",
    "              verbose=0, warm_start=False)"
   ]
  },
  {
   "cell_type": "code",
   "execution_count": 162,
   "metadata": {},
   "outputs": [],
   "source": [
    "# fit the model\n",
    "model = gbc.fit(X_train, y_train)"
   ]
  },
  {
   "cell_type": "code",
   "execution_count": 154,
   "metadata": {},
   "outputs": [
    {
     "data": {
      "text/plain": [
       "0.9328608834244081"
      ]
     },
     "execution_count": 154,
     "metadata": {},
     "output_type": "execute_result"
    }
   ],
   "source": [
    "#cross-validation\n",
    "cross_val_score(gbc, X_train, y_train, cv=3).mean()"
   ]
  },
  {
   "cell_type": "code",
   "execution_count": 163,
   "metadata": {},
   "outputs": [
    {
     "data": {
      "text/plain": [
       "0.9387997115968427"
      ]
     },
     "execution_count": 163,
     "metadata": {},
     "output_type": "execute_result"
    }
   ],
   "source": [
    "# Accuracy score of training set\n",
    "model.score(X_train, y_train)"
   ]
  },
  {
   "cell_type": "code",
   "execution_count": 164,
   "metadata": {},
   "outputs": [
    {
     "data": {
      "text/plain": [
       "0.9341994791740782"
      ]
     },
     "execution_count": 164,
     "metadata": {},
     "output_type": "execute_result"
    }
   ],
   "source": [
    "# Accuracy score of test set\n",
    "model.score(X_test, y_test)"
   ]
  },
  {
   "cell_type": "markdown",
   "metadata": {},
   "source": [
    "# Evaluate Model"
   ]
  },
  {
   "cell_type": "code",
   "execution_count": 165,
   "metadata": {},
   "outputs": [],
   "source": [
    "# prediction of test set\n",
    "y_hat = model.predict(X_test)\n",
    "y_hat_proba = model.predict_proba(X_test)"
   ]
  },
  {
   "cell_type": "code",
   "execution_count": 166,
   "metadata": {
    "scrolled": true
   },
   "outputs": [
    {
     "data": {
      "text/html": [
       "<div>\n",
       "<style scoped>\n",
       "    .dataframe tbody tr th:only-of-type {\n",
       "        vertical-align: middle;\n",
       "    }\n",
       "\n",
       "    .dataframe tbody tr th {\n",
       "        vertical-align: top;\n",
       "    }\n",
       "\n",
       "    .dataframe thead th {\n",
       "        text-align: right;\n",
       "    }\n",
       "</style>\n",
       "<table border=\"1\" class=\"dataframe\">\n",
       "  <thead>\n",
       "    <tr style=\"text-align: right;\">\n",
       "      <th></th>\n",
       "      <th>name</th>\n",
       "      <th>category</th>\n",
       "      <th>main_category</th>\n",
       "      <th>currency</th>\n",
       "      <th>country</th>\n",
       "      <th>goal</th>\n",
       "      <th>backers</th>\n",
       "      <th>project_duration</th>\n",
       "      <th>year_l</th>\n",
       "      <th>month_l</th>\n",
       "      <th>day_l</th>\n",
       "      <th>year_D</th>\n",
       "      <th>month_D</th>\n",
       "      <th>day_D</th>\n",
       "      <th>hour_launched</th>\n",
       "      <th>hour_deadline</th>\n",
       "      <th>len_project_name</th>\n",
       "      <th>actual_y</th>\n",
       "      <th>predicted_label</th>\n",
       "      <th>predicted_proba</th>\n",
       "    </tr>\n",
       "  </thead>\n",
       "  <tbody>\n",
       "    <tr>\n",
       "      <th>143771</th>\n",
       "      <td>64264</td>\n",
       "      <td>37</td>\n",
       "      <td>4</td>\n",
       "      <td>12</td>\n",
       "      <td>20</td>\n",
       "      <td>50000.0</td>\n",
       "      <td>23</td>\n",
       "      <td>45</td>\n",
       "      <td>2012</td>\n",
       "      <td>3</td>\n",
       "      <td>21</td>\n",
       "      <td>2012</td>\n",
       "      <td>5</td>\n",
       "      <td>5</td>\n",
       "      <td>4</td>\n",
       "      <td>5</td>\n",
       "      <td>56</td>\n",
       "      <td>0</td>\n",
       "      <td>0</td>\n",
       "      <td>0.012671</td>\n",
       "    </tr>\n",
       "    <tr>\n",
       "      <th>80841</th>\n",
       "      <td>129816</td>\n",
       "      <td>19</td>\n",
       "      <td>12</td>\n",
       "      <td>12</td>\n",
       "      <td>20</td>\n",
       "      <td>8849.0</td>\n",
       "      <td>1</td>\n",
       "      <td>30</td>\n",
       "      <td>2014</td>\n",
       "      <td>5</td>\n",
       "      <td>3</td>\n",
       "      <td>2014</td>\n",
       "      <td>6</td>\n",
       "      <td>2</td>\n",
       "      <td>5</td>\n",
       "      <td>5</td>\n",
       "      <td>51</td>\n",
       "      <td>0</td>\n",
       "      <td>0</td>\n",
       "      <td>0.005115</td>\n",
       "    </tr>\n",
       "    <tr>\n",
       "      <th>136261</th>\n",
       "      <td>216401</td>\n",
       "      <td>55</td>\n",
       "      <td>6</td>\n",
       "      <td>12</td>\n",
       "      <td>20</td>\n",
       "      <td>5000.0</td>\n",
       "      <td>45</td>\n",
       "      <td>51</td>\n",
       "      <td>2012</td>\n",
       "      <td>10</td>\n",
       "      <td>10</td>\n",
       "      <td>2012</td>\n",
       "      <td>11</td>\n",
       "      <td>30</td>\n",
       "      <td>9</td>\n",
       "      <td>15</td>\n",
       "      <td>10</td>\n",
       "      <td>1</td>\n",
       "      <td>1</td>\n",
       "      <td>0.867308</td>\n",
       "    </tr>\n",
       "    <tr>\n",
       "      <th>298695</th>\n",
       "      <td>134752</td>\n",
       "      <td>7</td>\n",
       "      <td>5</td>\n",
       "      <td>5</td>\n",
       "      <td>9</td>\n",
       "      <td>1200.0</td>\n",
       "      <td>59</td>\n",
       "      <td>18</td>\n",
       "      <td>2014</td>\n",
       "      <td>5</td>\n",
       "      <td>15</td>\n",
       "      <td>2014</td>\n",
       "      <td>6</td>\n",
       "      <td>2</td>\n",
       "      <td>19</td>\n",
       "      <td>20</td>\n",
       "      <td>40</td>\n",
       "      <td>1</td>\n",
       "      <td>1</td>\n",
       "      <td>0.975536</td>\n",
       "    </tr>\n",
       "    <tr>\n",
       "      <th>255472</th>\n",
       "      <td>126186</td>\n",
       "      <td>113</td>\n",
       "      <td>0</td>\n",
       "      <td>5</td>\n",
       "      <td>9</td>\n",
       "      <td>3000.0</td>\n",
       "      <td>97</td>\n",
       "      <td>23</td>\n",
       "      <td>2014</td>\n",
       "      <td>5</td>\n",
       "      <td>13</td>\n",
       "      <td>2014</td>\n",
       "      <td>6</td>\n",
       "      <td>5</td>\n",
       "      <td>20</td>\n",
       "      <td>14</td>\n",
       "      <td>23</td>\n",
       "      <td>1</td>\n",
       "      <td>1</td>\n",
       "      <td>0.969680</td>\n",
       "    </tr>\n",
       "  </tbody>\n",
       "</table>\n",
       "</div>"
      ],
      "text/plain": [
       "          name  category  main_category  currency  country     goal  backers  \\\n",
       "143771   64264        37              4        12       20  50000.0       23   \n",
       "80841   129816        19             12        12       20   8849.0        1   \n",
       "136261  216401        55              6        12       20   5000.0       45   \n",
       "298695  134752         7              5         5        9   1200.0       59   \n",
       "255472  126186       113              0         5        9   3000.0       97   \n",
       "\n",
       "        project_duration  year_l  month_l  day_l  year_D  month_D  day_D  \\\n",
       "143771                45    2012        3     21    2012        5      5   \n",
       "80841                 30    2014        5      3    2014        6      2   \n",
       "136261                51    2012       10     10    2012       11     30   \n",
       "298695                18    2014        5     15    2014        6      2   \n",
       "255472                23    2014        5     13    2014        6      5   \n",
       "\n",
       "        hour_launched  hour_deadline  len_project_name  actual_y  \\\n",
       "143771              4              5                56         0   \n",
       "80841               5              5                51         0   \n",
       "136261              9             15                10         1   \n",
       "298695             19             20                40         1   \n",
       "255472             20             14                23         1   \n",
       "\n",
       "        predicted_label  predicted_proba  \n",
       "143771                0         0.012671  \n",
       "80841                 0         0.005115  \n",
       "136261                1         0.867308  \n",
       "298695                1         0.975536  \n",
       "255472                1         0.969680  "
      ]
     },
     "execution_count": 166,
     "metadata": {},
     "output_type": "execute_result"
    }
   ],
   "source": [
    "#adding actul_y, predicted_label, predicted_proba in Dataframe\n",
    "X_test.loc[:, 'actual_y'] = y_test\n",
    "X_test.loc[:, 'predicted_label'] = y_hat\n",
    "X_test.loc[:, 'predicted_proba'] = y_hat_proba[:, 1]\n",
    "X_test.head()"
   ]
  },
  {
   "cell_type": "code",
   "execution_count": 168,
   "metadata": {},
   "outputs": [
    {
     "name": "stdout",
     "output_type": "stream",
     "text": [
      "True Negatives: 39483\n",
      "False Positives: 2546\n",
      "False Negatives: 2078\n",
      "True Positives: 26166\n"
     ]
    }
   ],
   "source": [
    "#confusion Matrix\n",
    "tn, fp, fn, tp = confusion_matrix(X_test['actual_y'], X_test['predicted_label']).ravel()\n",
    "\n",
    "print(\"True Negatives: %s\" % tn)\n",
    "print(\"False Positives: %s\" % fp)\n",
    "print(\"False Negatives: %s\" % fn)\n",
    "print(\"True Positives: %s\" % tp)"
   ]
  },
  {
   "cell_type": "markdown",
   "metadata": {},
   "source": [
    "- True positive are project we correctly predict to be successful (True Positive).\n",
    "- True negative are project we correctly predict to be failed (True negative )\n",
    "- False positives are project we incorrectly predict to be successful (False positive ).\n",
    "- False negatives are people we incorrectly predict to be failed (False negative )."
   ]
  },
  {
   "cell_type": "code",
   "execution_count": 169,
   "metadata": {},
   "outputs": [
    {
     "name": "stdout",
     "output_type": "stream",
     "text": [
      "Accuracy: 0.9341994791740782\n",
      "F1 score: 0.9188145234918184\n",
      "Recall: 0.9264268517207195\n",
      "Precision: 0.9113262747283366\n",
      "\n",
      " clasification report:\n",
      "               precision    recall  f1-score   support\n",
      "\n",
      "           0       0.95      0.94      0.94     42029\n",
      "           1       0.91      0.93      0.92     28244\n",
      "\n",
      "   micro avg       0.93      0.93      0.93     70273\n",
      "   macro avg       0.93      0.93      0.93     70273\n",
      "weighted avg       0.93      0.93      0.93     70273\n",
      "\n"
     ]
    }
   ],
   "source": [
    "#classification Report\n",
    "print( 'Accuracy:', accuracy_score(X_test['actual_y'], X_test['predicted_label']))\n",
    "print( 'F1 score:', f1_score(X_test['actual_y'], X_test['predicted_label']))\n",
    "print( 'Recall:', recall_score(X_test['actual_y'], X_test['predicted_label']))\n",
    "print ('Precision:', precision_score(X_test['actual_y'], X_test['predicted_label']))\n",
    "print ('\\n clasification report:\\n', classification_report(X_test['actual_y'], X_test['predicted_label']))"
   ]
  },
  {
   "cell_type": "code",
   "execution_count": 170,
   "metadata": {},
   "outputs": [
    {
     "data": {
      "text/plain": [
       "array([[39982,  2047],\n",
       "       [ 2695, 25549]])"
      ]
     },
     "execution_count": 170,
     "metadata": {},
     "output_type": "execute_result"
    }
   ],
   "source": [
    "#increase or decrese the thershold and see the effect how our false positive and negative change through confusion matrix\n",
    "X_test.loc[:, 'predicted_label'] = X_test['predicted_proba'].map(lambda p: 1 if p > .6 else 0)\n",
    "\n",
    "confusion_matrix(X_test['actual_y'], X_test['predicted_label'])"
   ]
  },
  {
   "cell_type": "code",
   "execution_count": 171,
   "metadata": {},
   "outputs": [
    {
     "data": {
      "text/plain": [
       "[('backers', 0.7943061673216495),\n",
       " ('goal', 0.13822663450800046),\n",
       " ('main_category', 0.014926160740875301),\n",
       " ('project_duration', 0.014241775448949648),\n",
       " ('category', 0.009856005402029243),\n",
       " ('year_l', 0.005786467567491731),\n",
       " ('len_project_name', 0.005767975461020784),\n",
       " ('year_D', 0.005421863050447382),\n",
       " ('currency', 0.0024716235648529136),\n",
       " ('country', 0.0020755925494421305),\n",
       " ('hour_launched', 0.0019441814612843153),\n",
       " ('name', 0.001336417738902069),\n",
       " ('hour_deadline', 0.0013061968751912683),\n",
       " ('month_D', 0.0006678368455222949),\n",
       " ('day_l', 0.0005741980404943615),\n",
       " ('day_D', 0.0005474433353314523),\n",
       " ('month_l', 0.0005434600885150013)]"
      ]
     },
     "execution_count": 171,
     "metadata": {},
     "output_type": "execute_result"
    }
   ],
   "source": [
    "#features importance\n",
    "sorted(list(zip(X_train.columns,model.feature_importances_)),key=lambda x: x[1], reverse=True)"
   ]
  },
  {
   "cell_type": "code",
   "execution_count": 172,
   "metadata": {},
   "outputs": [
    {
     "data": {
      "image/png": "[encoded data removed]",
      "text/plain": [
       "<Figure size 504x504 with 1 Axes>"
      ]
     },
     "metadata": {
      "needs_background": "light"
     },
     "output_type": "display_data"
    }
   ],
   "source": [
    "#visualizing  important features\n",
    "plt.figure(figsize=(7,7))\n",
    "feat_imp = pd.Series(model.feature_importances_, X_train.columns ).sort_values(ascending=False)\n",
    "feat_imp.plot(kind='bar', title='Feature Importances')\n",
    "plt.xlabel('Features')\n",
    "plt.ylabel('Feature Importance Score')\n",
    "plt.savefig(\"feat.png\")\n",
    "plt.show()"
   ]
  },
  {
   "cell_type": "markdown",
   "metadata": {},
   "source": [
    "# AUC- ROC Curve"
   ]
  },
  {
   "cell_type": "code",
   "execution_count": 173,
   "metadata": {},
   "outputs": [
    {
     "data": {
      "image/png": "[encoded data removed]",
      "text/plain": [
       "<Figure size 504x504 with 1 Axes>"
      ]
     },
     "metadata": {
      "needs_background": "light"
     },
     "output_type": "display_data"
    }
   ],
   "source": [
    "# Generate False positive rate and True positive rate\n",
    "fpr, tpr, _ = roc_curve(X_test['actual_y'], X_test['predicted_proba'])\n",
    "roc_auc = auc(fpr, tpr)\n",
    "\n",
    "# Plot \n",
    "plt.figure(figsize=(7,7))\n",
    "line_width = 3\n",
    "\n",
    "plt.plot(fpr, tpr, lw = line_width, color=\"darkorange\", label = \"ROC Curve %.2f\" % roc_auc)\n",
    "plt.plot([0,1], [0, 1], lw = line_width, linestyle=\"--\", color=\"navy\")\n",
    "\n",
    "plt.xlim([0.0, 1.0])\n",
    "plt.ylim([0.0, 1.05])\n",
    "plt.xlabel('False Positive Rate')\n",
    "plt.ylabel('True Positive Rate')\n",
    "plt.title('ROC')\n",
    "plt.legend(loc=\"lower right\")\n",
    "plt.savefig('auc.png')\n",
    "plt.show()"
   ]
  },
  {
   "cell_type": "markdown",
   "metadata": {},
   "source": [
    "## Check Misclassification"
   ]
  },
  {
   "cell_type": "code",
   "execution_count": 174,
   "metadata": {},
   "outputs": [
    {
     "data": {
      "text/plain": [
       "Int64Index([251715, 287055, 293323, 184781,  14248, 159336, 253785, 257428,\n",
       "            169979, 121125,\n",
       "            ...\n",
       "            164024,   9842,  68040, 230496,  60074, 145000, 278894, 288320,\n",
       "            260822,  18121],\n",
       "           dtype='int64', length=4624)"
      ]
     },
     "execution_count": 174,
     "metadata": {},
     "output_type": "execute_result"
    }
   ],
   "source": [
    "# Get the row index of misclassifies posts\n",
    "dic = {'Actual': y_test,\n",
    "      'Pred': y_hat}\n",
    "inc = pd.DataFrame(dic)\n",
    "\n",
    "row_ids = inc[inc['Pred'] != inc['Actual']].index\n",
    "row_ids"
   ]
  },
  {
   "cell_type": "markdown",
   "metadata": {},
   "source": [
    "# Fine Tune Model"
   ]
  },
  {
   "cell_type": "code",
   "execution_count": 146,
   "metadata": {},
   "outputs": [
    {
     "data": {
      "text/plain": [
       "{'n_estimators': 80}"
      ]
     },
     "execution_count": 146,
     "metadata": {},
     "output_type": "execute_result"
    }
   ],
   "source": [
    "#gridsearch\n",
    "param_test1 = {'n_estimators':range(20,81,10)}\n",
    "gsearch = GridSearchCV(estimator = GradientBoostingClassifier(learning_rate=0.1,\n",
    "                                                               min_samples_split=500,min_samples_leaf=50,\n",
    "                                                               max_depth=8,max_features='sqrt',\n",
    "                                                               subsample=0.8,random_state=10), \n",
    "param_grid = param_test1, scoring='roc_auc',n_jobs=4,iid=False, cv=5)\n",
    "gsearch.fit(X_train, y_train)\n",
    "print(gsearch.best_score_)\n",
    "gsearch.best_params_"
   ]
  },
  {
   "cell_type": "code",
   "execution_count": 157,
   "metadata": {},
   "outputs": [
    {
     "data": {
      "text/plain": [
       "GradientBoostingClassifier(criterion='friedman_mse', init=None,\n",
       "              learning_rate=0.1, loss='deviance', max_depth=8,\n",
       "              max_features='sqrt', max_leaf_nodes=None,\n",
       "              min_impurity_decrease=0.0, min_impurity_split=None,\n",
       "              min_samples_leaf=50, min_samples_split=500,\n",
       "              min_weight_fraction_leaf=0.0, n_estimators=80,\n",
       "              n_iter_no_change=None, presort='auto', random_state=10,\n",
       "              subsample=0.8, tol=0.0001, validation_fraction=0.1,\n",
       "              verbose=0, warm_start=False)"
      ]
     },
     "execution_count": 157,
     "metadata": {},
     "output_type": "execute_result"
    }
   ],
   "source": [
    "#best estimator\n",
    "gsearch.best_estimator_"
   ]
  },
  {
   "cell_type": "code",
   "execution_count": 147,
   "metadata": {},
   "outputs": [
    {
     "data": {
      "text/html": [
       "<div>\n",
       "<style scoped>\n",
       "    .dataframe tbody tr th:only-of-type {\n",
       "        vertical-align: middle;\n",
       "    }\n",
       "\n",
       "    .dataframe tbody tr th {\n",
       "        vertical-align: top;\n",
       "    }\n",
       "\n",
       "    .dataframe thead th {\n",
       "        text-align: right;\n",
       "    }\n",
       "</style>\n",
       "<table border=\"1\" class=\"dataframe\">\n",
       "  <thead>\n",
       "    <tr style=\"text-align: right;\">\n",
       "      <th></th>\n",
       "      <th>mean_fit_time</th>\n",
       "      <th>std_fit_time</th>\n",
       "      <th>mean_score_time</th>\n",
       "      <th>std_score_time</th>\n",
       "      <th>param_n_estimators</th>\n",
       "      <th>params</th>\n",
       "      <th>split0_test_score</th>\n",
       "      <th>split1_test_score</th>\n",
       "      <th>split2_test_score</th>\n",
       "      <th>split3_test_score</th>\n",
       "      <th>...</th>\n",
       "      <th>mean_test_score</th>\n",
       "      <th>std_test_score</th>\n",
       "      <th>rank_test_score</th>\n",
       "      <th>split0_train_score</th>\n",
       "      <th>split1_train_score</th>\n",
       "      <th>split2_train_score</th>\n",
       "      <th>split3_train_score</th>\n",
       "      <th>split4_train_score</th>\n",
       "      <th>mean_train_score</th>\n",
       "      <th>std_train_score</th>\n",
       "    </tr>\n",
       "  </thead>\n",
       "  <tbody>\n",
       "    <tr>\n",
       "      <th>0</th>\n",
       "      <td>41.730379</td>\n",
       "      <td>0.600696</td>\n",
       "      <td>0.186335</td>\n",
       "      <td>0.028979</td>\n",
       "      <td>20</td>\n",
       "      <td>{'n_estimators': 20}</td>\n",
       "      <td>0.976100</td>\n",
       "      <td>0.977405</td>\n",
       "      <td>0.975657</td>\n",
       "      <td>0.976874</td>\n",
       "      <td>...</td>\n",
       "      <td>0.976617</td>\n",
       "      <td>0.000642</td>\n",
       "      <td>7</td>\n",
       "      <td>0.979355</td>\n",
       "      <td>0.978707</td>\n",
       "      <td>0.978092</td>\n",
       "      <td>0.977964</td>\n",
       "      <td>0.978786</td>\n",
       "      <td>0.978581</td>\n",
       "      <td>0.000505</td>\n",
       "    </tr>\n",
       "    <tr>\n",
       "      <th>1</th>\n",
       "      <td>63.467030</td>\n",
       "      <td>1.771935</td>\n",
       "      <td>0.148797</td>\n",
       "      <td>0.007252</td>\n",
       "      <td>30</td>\n",
       "      <td>{'n_estimators': 30}</td>\n",
       "      <td>0.978640</td>\n",
       "      <td>0.979788</td>\n",
       "      <td>0.978206</td>\n",
       "      <td>0.980075</td>\n",
       "      <td>...</td>\n",
       "      <td>0.979215</td>\n",
       "      <td>0.000698</td>\n",
       "      <td>6</td>\n",
       "      <td>0.981878</td>\n",
       "      <td>0.981326</td>\n",
       "      <td>0.980772</td>\n",
       "      <td>0.981324</td>\n",
       "      <td>0.981258</td>\n",
       "      <td>0.981312</td>\n",
       "      <td>0.000351</td>\n",
       "    </tr>\n",
       "    <tr>\n",
       "      <th>2</th>\n",
       "      <td>77.330259</td>\n",
       "      <td>2.318063</td>\n",
       "      <td>0.211439</td>\n",
       "      <td>0.036258</td>\n",
       "      <td>40</td>\n",
       "      <td>{'n_estimators': 40}</td>\n",
       "      <td>0.980165</td>\n",
       "      <td>0.981477</td>\n",
       "      <td>0.979834</td>\n",
       "      <td>0.981321</td>\n",
       "      <td>...</td>\n",
       "      <td>0.980748</td>\n",
       "      <td>0.000644</td>\n",
       "      <td>5</td>\n",
       "      <td>0.983404</td>\n",
       "      <td>0.983115</td>\n",
       "      <td>0.982624</td>\n",
       "      <td>0.982711</td>\n",
       "      <td>0.982972</td>\n",
       "      <td>0.982965</td>\n",
       "      <td>0.000281</td>\n",
       "    </tr>\n",
       "    <tr>\n",
       "      <th>3</th>\n",
       "      <td>100.792294</td>\n",
       "      <td>3.538298</td>\n",
       "      <td>0.215658</td>\n",
       "      <td>0.010211</td>\n",
       "      <td>50</td>\n",
       "      <td>{'n_estimators': 50}</td>\n",
       "      <td>0.980888</td>\n",
       "      <td>0.982303</td>\n",
       "      <td>0.980909</td>\n",
       "      <td>0.982258</td>\n",
       "      <td>...</td>\n",
       "      <td>0.981675</td>\n",
       "      <td>0.000641</td>\n",
       "      <td>4</td>\n",
       "      <td>0.984394</td>\n",
       "      <td>0.984199</td>\n",
       "      <td>0.983816</td>\n",
       "      <td>0.983906</td>\n",
       "      <td>0.984223</td>\n",
       "      <td>0.984107</td>\n",
       "      <td>0.000214</td>\n",
       "    </tr>\n",
       "    <tr>\n",
       "      <th>4</th>\n",
       "      <td>114.546813</td>\n",
       "      <td>2.518415</td>\n",
       "      <td>0.256332</td>\n",
       "      <td>0.018574</td>\n",
       "      <td>60</td>\n",
       "      <td>{'n_estimators': 60}</td>\n",
       "      <td>0.981549</td>\n",
       "      <td>0.982772</td>\n",
       "      <td>0.981563</td>\n",
       "      <td>0.982919</td>\n",
       "      <td>...</td>\n",
       "      <td>0.982253</td>\n",
       "      <td>0.000588</td>\n",
       "      <td>3</td>\n",
       "      <td>0.985196</td>\n",
       "      <td>0.984964</td>\n",
       "      <td>0.984762</td>\n",
       "      <td>0.984813</td>\n",
       "      <td>0.984936</td>\n",
       "      <td>0.984934</td>\n",
       "      <td>0.000151</td>\n",
       "    </tr>\n",
       "    <tr>\n",
       "      <th>5</th>\n",
       "      <td>130.156433</td>\n",
       "      <td>2.624730</td>\n",
       "      <td>0.301832</td>\n",
       "      <td>0.032609</td>\n",
       "      <td>70</td>\n",
       "      <td>{'n_estimators': 70}</td>\n",
       "      <td>0.981886</td>\n",
       "      <td>0.983081</td>\n",
       "      <td>0.982064</td>\n",
       "      <td>0.983289</td>\n",
       "      <td>...</td>\n",
       "      <td>0.982624</td>\n",
       "      <td>0.000555</td>\n",
       "      <td>2</td>\n",
       "      <td>0.985723</td>\n",
       "      <td>0.985584</td>\n",
       "      <td>0.985501</td>\n",
       "      <td>0.985457</td>\n",
       "      <td>0.985514</td>\n",
       "      <td>0.985556</td>\n",
       "      <td>0.000093</td>\n",
       "    </tr>\n",
       "    <tr>\n",
       "      <th>6</th>\n",
       "      <td>128.192043</td>\n",
       "      <td>19.388864</td>\n",
       "      <td>0.291104</td>\n",
       "      <td>0.068276</td>\n",
       "      <td>80</td>\n",
       "      <td>{'n_estimators': 80}</td>\n",
       "      <td>0.982182</td>\n",
       "      <td>0.983303</td>\n",
       "      <td>0.982322</td>\n",
       "      <td>0.983595</td>\n",
       "      <td>...</td>\n",
       "      <td>0.982902</td>\n",
       "      <td>0.000555</td>\n",
       "      <td>1</td>\n",
       "      <td>0.986295</td>\n",
       "      <td>0.986102</td>\n",
       "      <td>0.986058</td>\n",
       "      <td>0.986000</td>\n",
       "      <td>0.986080</td>\n",
       "      <td>0.986107</td>\n",
       "      <td>0.000100</td>\n",
       "    </tr>\n",
       "  </tbody>\n",
       "</table>\n",
       "<p>7 rows × 21 columns</p>\n",
       "</div>"
      ],
      "text/plain": [
       "   mean_fit_time  std_fit_time  mean_score_time  std_score_time  \\\n",
       "0      41.730379      0.600696         0.186335        0.028979   \n",
       "1      63.467030      1.771935         0.148797        0.007252   \n",
       "2      77.330259      2.318063         0.211439        0.036258   \n",
       "3     100.792294      3.538298         0.215658        0.010211   \n",
       "4     114.546813      2.518415         0.256332        0.018574   \n",
       "5     130.156433      2.624730         0.301832        0.032609   \n",
       "6     128.192043     19.388864         0.291104        0.068276   \n",
       "\n",
       "  param_n_estimators                params  split0_test_score  \\\n",
       "0                 20  {'n_estimators': 20}           0.976100   \n",
       "1                 30  {'n_estimators': 30}           0.978640   \n",
       "2                 40  {'n_estimators': 40}           0.980165   \n",
       "3                 50  {'n_estimators': 50}           0.980888   \n",
       "4                 60  {'n_estimators': 60}           0.981549   \n",
       "5                 70  {'n_estimators': 70}           0.981886   \n",
       "6                 80  {'n_estimators': 80}           0.982182   \n",
       "\n",
       "   split1_test_score  split2_test_score  split3_test_score       ...         \\\n",
       "0           0.977405           0.975657           0.976874       ...          \n",
       "1           0.979788           0.978206           0.980075       ...          \n",
       "2           0.981477           0.979834           0.981321       ...          \n",
       "3           0.982303           0.980909           0.982258       ...          \n",
       "4           0.982772           0.981563           0.982919       ...          \n",
       "5           0.983081           0.982064           0.983289       ...          \n",
       "6           0.983303           0.982322           0.983595       ...          \n",
       "\n",
       "   mean_test_score  std_test_score  rank_test_score  split0_train_score  \\\n",
       "0         0.976617        0.000642                7            0.979355   \n",
       "1         0.979215        0.000698                6            0.981878   \n",
       "2         0.980748        0.000644                5            0.983404   \n",
       "3         0.981675        0.000641                4            0.984394   \n",
       "4         0.982253        0.000588                3            0.985196   \n",
       "5         0.982624        0.000555                2            0.985723   \n",
       "6         0.982902        0.000555                1            0.986295   \n",
       "\n",
       "   split1_train_score  split2_train_score  split3_train_score  \\\n",
       "0            0.978707            0.978092            0.977964   \n",
       "1            0.981326            0.980772            0.981324   \n",
       "2            0.983115            0.982624            0.982711   \n",
       "3            0.984199            0.983816            0.983906   \n",
       "4            0.984964            0.984762            0.984813   \n",
       "5            0.985584            0.985501            0.985457   \n",
       "6            0.986102            0.986058            0.986000   \n",
       "\n",
       "   split4_train_score  mean_train_score  std_train_score  \n",
       "0            0.978786          0.978581         0.000505  \n",
       "1            0.981258          0.981312         0.000351  \n",
       "2            0.982972          0.982965         0.000281  \n",
       "3            0.984223          0.984107         0.000214  \n",
       "4            0.984936          0.984934         0.000151  \n",
       "5            0.985514          0.985556         0.000093  \n",
       "6            0.986080          0.986107         0.000100  \n",
       "\n",
       "[7 rows x 21 columns]"
      ]
     },
     "execution_count": 147,
     "metadata": {},
     "output_type": "execute_result"
    }
   ],
   "source": [
    "#examining grid search results\n",
    "scores= pd.DataFrame(gsearch.cv_results_)\n",
    "scores"
   ]
  },
  {
   "cell_type": "code",
   "execution_count": 175,
   "metadata": {},
   "outputs": [
    {
     "data": {
      "text/plain": [
       "0.9858882852078048"
      ]
     },
     "execution_count": 175,
     "metadata": {},
     "output_type": "execute_result"
    }
   ],
   "source": [
    "#after grid search the accuracy score on training\n",
    "gsearch.score(X_train, y_train)"
   ]
  },
  {
   "cell_type": "code",
   "execution_count": 180,
   "metadata": {},
   "outputs": [
    {
     "data": {
      "text/plain": [
       "0.9834001225386526"
      ]
     },
     "execution_count": 180,
     "metadata": {},
     "output_type": "execute_result"
    }
   ],
   "source": [
    "# after grid search the accuracy score on test\n",
    "gsearch.score(X_test, y_test)"
   ]
  },
  {
   "cell_type": "markdown",
   "metadata": {},
   "source": [
    "# Answer Problem"
   ]
  },
  {
   "cell_type": "markdown",
   "metadata": {},
   "source": [
    "Algorithm has given the most important features as backers and it makes sense as Kickstarter has adopted All-or-nothing funding meaning that no one will be charged for a pledge towards a project unless it reaches its funding goal and to make project successful it needs backers to support and share about the project (word-of-mouth). So, the project being pledged is completely dependent number of backers a project can get. The one who starts the project should give maximum time in making project more creative, being very sincere to the question asked by the potential backers as backers that support a project on Kickstarter get an inside look at the creative process."
   ]
  }
 ],
 "metadata": {
  "kernelspec": {
   "display_name": "Python 3",
   "language": "python",
   "name": "python3"
  },
  "language_info": {
   "codemirror_mode": {
    "name": "ipython",
    "version": 3
   },
   "file_extension": ".py",
   "mimetype": "text/x-python",
   "name": "python",
   "nbconvert_exporter": "python",
   "pygments_lexer": "ipython3",
   "version": "3.6.8"
  }
 },
 "nbformat": 4,
 "nbformat_minor": 2
}
